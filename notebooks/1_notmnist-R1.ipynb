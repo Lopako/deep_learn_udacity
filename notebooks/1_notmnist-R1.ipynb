{
 "cells": [
  {
   "cell_type": "markdown",
   "metadata": {
    "colab_type": "text",
    "deletable": true,
    "editable": true,
    "id": "5hIbr52I7Z7U"
   },
   "source": [
    "Deep Learning\n",
    "=============\n",
    "\n",
    "Assignment 1\n",
    "------------\n",
    "\n",
    "The objective of this assignment is to learn about simple data curation practices, and familiarize you with some of the data we'll be reusing later.\n",
    "\n",
    "This notebook uses the [notMNIST](http://yaroslavvb.blogspot.com/2011/09/notmnist-dataset.html) dataset to be used with python experiments. This dataset is designed to look like the classic [MNIST](http://yann.lecun.com/exdb/mnist/) dataset, while looking a little more like real data: it's a harder task, and the data is a lot less 'clean' than MNIST."
   ]
  },
  {
   "cell_type": "code",
   "execution_count": 2,
   "metadata": {
    "cellView": "both",
    "colab": {
     "autoexec": {
      "startup": false,
      "wait_interval": 0
     }
    },
    "colab_type": "code",
    "collapsed": true,
    "deletable": true,
    "editable": true,
    "id": "apJbCsBHl-2A"
   },
   "outputs": [],
   "source": [
    "# These are all the modules we'll be using later. Make sure you can import them\n",
    "# before proceeding further.\n",
    "from __future__ import print_function\n",
    "import matplotlib.pyplot as plt\n",
    "import numpy as np\n",
    "import os\n",
    "import sys\n",
    "import tarfile\n",
    "from IPython.display import display, Image\n",
    "from scipy import ndimage\n",
    "from sklearn.linear_model import LogisticRegression\n",
    "from six.moves.urllib.request import urlretrieve\n",
    "from six.moves import cPickle as pickle\n",
    "\n",
    "# Config the matplotlib backend as plotting inline in IPython\n",
    "%matplotlib inline"
   ]
  },
  {
   "cell_type": "markdown",
   "metadata": {
    "colab_type": "text",
    "deletable": true,
    "editable": true,
    "id": "jNWGtZaXn-5j"
   },
   "source": [
    "First, we'll download the dataset to our local machine. The data consists of characters rendered in a variety of fonts on a 28x28 image. The labels are limited to 'A' through 'J' (10 classes). The training set has about 500k and the testset 19000 labelled examples. Given these sizes, it should be possible to train models quickly on any machine."
   ]
  },
  {
   "cell_type": "code",
   "execution_count": 3,
   "metadata": {
    "cellView": "both",
    "colab": {
     "autoexec": {
      "startup": false,
      "wait_interval": 0
     },
     "output_extras": [
      {
       "item_id": 1
      }
     ]
    },
    "colab_type": "code",
    "collapsed": false,
    "deletable": true,
    "editable": true,
    "executionInfo": {
     "elapsed": 186058,
     "status": "ok",
     "timestamp": 1444485672507,
     "user": {
      "color": "#1FA15D",
      "displayName": "Vincent Vanhoucke",
      "isAnonymous": false,
      "isMe": true,
      "permissionId": "05076109866853157986",
      "photoUrl": "//lh6.googleusercontent.com/-cCJa7dTDcgQ/AAAAAAAAAAI/AAAAAAAACgw/r2EZ_8oYer4/s50-c-k-no/photo.jpg",
      "sessionId": "2a0a5e044bb03b66",
      "userId": "102167687554210253930"
     },
     "user_tz": 420
    },
    "id": "EYRJ4ICW6-da",
    "outputId": "0d0f85df-155f-4a89-8e7e-ee32df36ec8d"
   },
   "outputs": [
    {
     "name": "stdout",
     "output_type": "stream",
     "text": [
      "Attempting to download: notMNIST_large.tar.gz\n",
      "0%....5%....10%....15%....20%....25%....30%....35%....40%....45%....50%....55%....60%....65%....70%....75%....80%....85%....90%....95%....100%\n",
      "Download Complete!\n",
      "Found and verified ./notMNIST_large.tar.gz\n",
      "Attempting to download: notMNIST_small.tar.gz\n",
      "0%....5%....10%....15%....20%....25%....30%....35%....40%....45%....50%....55%....60%....65%....70%....75%....80%....85%....90%....95%....100%\n",
      "Download Complete!\n",
      "Found and verified ./notMNIST_small.tar.gz\n"
     ]
    }
   ],
   "source": [
    "url = 'http://commondatastorage.googleapis.com/books1000/'\n",
    "last_percent_reported = None\n",
    "data_root = '.' # Change me to store data elsewhere\n",
    "\n",
    "def download_progress_hook(count, blockSize, totalSize):\n",
    "  \"\"\"A hook to report the progress of a download. This is mostly intended for users with\n",
    "  slow internet connections. Reports every 5% change in download progress.\n",
    "  \"\"\"\n",
    "  global last_percent_reported\n",
    "  percent = int(count * blockSize * 100 / totalSize)\n",
    "\n",
    "  if last_percent_reported != percent:\n",
    "    if percent % 5 == 0:\n",
    "      sys.stdout.write(\"%s%%\" % percent)\n",
    "      sys.stdout.flush()\n",
    "    else:\n",
    "      sys.stdout.write(\".\")\n",
    "      sys.stdout.flush()\n",
    "      \n",
    "    last_percent_reported = percent\n",
    "        \n",
    "def maybe_download(filename, expected_bytes, force=False):\n",
    "  \"\"\"Download a file if not present, and make sure it's the right size.\"\"\"\n",
    "  dest_filename = os.path.join(data_root, filename)\n",
    "  if force or not os.path.exists(dest_filename):\n",
    "    print('Attempting to download:', filename) \n",
    "    filename, _ = urlretrieve(url + filename, dest_filename, reporthook=download_progress_hook)\n",
    "    print('\\nDownload Complete!')\n",
    "  statinfo = os.stat(dest_filename)\n",
    "  if statinfo.st_size == expected_bytes:\n",
    "    print('Found and verified', dest_filename)\n",
    "  else:\n",
    "    raise Exception(\n",
    "      'Failed to verify ' + dest_filename + '. Can you get to it with a browser?')\n",
    "  return dest_filename\n",
    "\n",
    "train_filename = maybe_download('notMNIST_large.tar.gz', 247336696)\n",
    "test_filename = maybe_download('notMNIST_small.tar.gz', 8458043)"
   ]
  },
  {
   "cell_type": "markdown",
   "metadata": {
    "colab_type": "text",
    "deletable": true,
    "editable": true,
    "id": "cC3p0oEyF8QT"
   },
   "source": [
    "Extract the dataset from the compressed .tar.gz file.\n",
    "This should give you a set of directories, labelled A through J."
   ]
  },
  {
   "cell_type": "code",
   "execution_count": 4,
   "metadata": {
    "cellView": "both",
    "colab": {
     "autoexec": {
      "startup": false,
      "wait_interval": 0
     },
     "output_extras": [
      {
       "item_id": 1
      }
     ]
    },
    "colab_type": "code",
    "collapsed": false,
    "deletable": true,
    "editable": true,
    "executionInfo": {
     "elapsed": 186055,
     "status": "ok",
     "timestamp": 1444485672525,
     "user": {
      "color": "#1FA15D",
      "displayName": "Vincent Vanhoucke",
      "isAnonymous": false,
      "isMe": true,
      "permissionId": "05076109866853157986",
      "photoUrl": "//lh6.googleusercontent.com/-cCJa7dTDcgQ/AAAAAAAAAAI/AAAAAAAACgw/r2EZ_8oYer4/s50-c-k-no/photo.jpg",
      "sessionId": "2a0a5e044bb03b66",
      "userId": "102167687554210253930"
     },
     "user_tz": 420
    },
    "id": "H8CBE-WZ8nmj",
    "outputId": "ef6c790c-2513-4b09-962e-27c79390c762",
    "scrolled": true
   },
   "outputs": [
    {
     "name": "stdout",
     "output_type": "stream",
     "text": [
      "Extracting data for ./notMNIST_large. This may take a while. Please wait.\n",
      "['./notMNIST_large/A', './notMNIST_large/B', './notMNIST_large/C', './notMNIST_large/D', './notMNIST_large/E', './notMNIST_large/F', './notMNIST_large/G', './notMNIST_large/H', './notMNIST_large/I', './notMNIST_large/J']\n",
      "Extracting data for ./notMNIST_small. This may take a while. Please wait.\n",
      "['./notMNIST_small/A', './notMNIST_small/B', './notMNIST_small/C', './notMNIST_small/D', './notMNIST_small/E', './notMNIST_small/F', './notMNIST_small/G', './notMNIST_small/H', './notMNIST_small/I', './notMNIST_small/J']\n"
     ]
    }
   ],
   "source": [
    "num_classes = 10\n",
    "np.random.seed(133)\n",
    "\n",
    "def maybe_extract(filename, force=False):\n",
    "  root = os.path.splitext(os.path.splitext(filename)[0])[0]  # remove .tar.gz\n",
    "  if os.path.isdir(root) and not force:\n",
    "    # You may override by setting force=True.\n",
    "    print('%s already present - Skipping extraction of %s.' % (root, filename))\n",
    "  else:\n",
    "    print('Extracting data for %s. This may take a while. Please wait.' % root)\n",
    "    tar = tarfile.open(filename)\n",
    "    sys.stdout.flush()\n",
    "    tar.extractall(data_root)\n",
    "    tar.close()\n",
    "  data_folders = [\n",
    "    os.path.join(root, d) for d in sorted(os.listdir(root))\n",
    "    if os.path.isdir(os.path.join(root, d))]\n",
    "  if len(data_folders) != num_classes:\n",
    "    raise Exception(\n",
    "      'Expected %d folders, one per class. Found %d instead.' % (\n",
    "        num_classes, len(data_folders)))\n",
    "  print(data_folders)\n",
    "  return data_folders\n",
    "  \n",
    "train_folders = maybe_extract(train_filename)\n",
    "test_folders = maybe_extract(test_filename)"
   ]
  },
  {
   "cell_type": "markdown",
   "metadata": {
    "colab_type": "text",
    "deletable": true,
    "editable": true,
    "id": "4riXK3IoHgx6"
   },
   "source": [
    "---\n",
    "Problem 1\n",
    "---------\n",
    "\n",
    "Let's take a peek at some of the data to make sure it looks sensible. Each exemplar should be an image of a character A through J rendered in a different font. Display a sample of the images that we just downloaded. Hint: you can use the package IPython.display.\n",
    "\n",
    "---"
   ]
  },
  {
   "cell_type": "code",
   "execution_count": 52,
   "metadata": {
    "collapsed": false,
    "deletable": true,
    "editable": true
   },
   "outputs": [
    {
     "data": {
      "image/png": "[encoded data removed]",
      "text/plain": [
       "<IPython.core.display.Image object>"
      ]
     },
     "metadata": {},
     "output_type": "display_data"
    }
   ],
   "source": [
    "# display(filename='./notMNIST_small/A/QnVsbWVyLUl0bC5vdGY\\=.png')\n",
    "# dir(display)\n",
    "# Image(filename='./notMNIST_small/A/QnVsbWVyLUl0bC5vdGY\\=.png')\n",
    "# !ls ./notMNIST_small/A/QnVsbWVyLUl0bC5vdGY\\=.png\n",
    "\n",
    "### NOTE: '\\=' in the system ls translates to just '=' here, in this (auto-escaped?) filename string\n",
    "an_image_file = Image(filename=\"/notebooks/notMNIST_small/A/QnVsbWVyLUl0bC5vdGY=.png\")\n",
    "display(an_image_file)\n",
    "\n",
    "\n"
   ]
  },
  {
   "cell_type": "markdown",
   "metadata": {
    "colab_type": "text",
    "deletable": true,
    "editable": true,
    "id": "PBdkjESPK8tw"
   },
   "source": [
    "Now let's load the data in a more manageable format. Since, depending on your computer setup you might not be able to fit it all in memory, we'll load each class into a separate dataset, store them on disk and curate them independently. Later we'll merge them into a single dataset of manageable size.\n",
    "\n",
    "We'll convert the entire dataset into a 3D array (image index, x, y) of **floating point values, normalized to have approximately zero mean and standard deviation ~0.5** to make training easier down the road. \n",
    "\n",
    "A few images might not be readable, we'll just skip them."
   ]
  },
  {
   "cell_type": "code",
   "execution_count": 28,
   "metadata": {
    "cellView": "both",
    "colab": {
     "autoexec": {
      "startup": false,
      "wait_interval": 0
     },
     "output_extras": [
      {
       "item_id": 30
      }
     ]
    },
    "colab_type": "code",
    "collapsed": false,
    "deletable": true,
    "editable": true,
    "executionInfo": {
     "elapsed": 399874,
     "status": "ok",
     "timestamp": 1444485886378,
     "user": {
      "color": "#1FA15D",
      "displayName": "Vincent Vanhoucke",
      "isAnonymous": false,
      "isMe": true,
      "permissionId": "05076109866853157986",
      "photoUrl": "//lh6.googleusercontent.com/-cCJa7dTDcgQ/AAAAAAAAAAI/AAAAAAAACgw/r2EZ_8oYer4/s50-c-k-no/photo.jpg",
      "sessionId": "2a0a5e044bb03b66",
      "userId": "102167687554210253930"
     },
     "user_tz": 420
    },
    "id": "h7q0XhG3MJdf",
    "outputId": "92c391bb-86ff-431d-9ada-315568a19e59"
   },
   "outputs": [
    {
     "name": "stdout",
     "output_type": "stream",
     "text": [
      "Pickling ./notMNIST_large/A.pickle.\n",
      "./notMNIST_large/A\n",
      "Could not read: ./notMNIST_large/A/Um9tYW5hIEJvbGQucGZi.png : cannot identify image file './notMNIST_large/A/Um9tYW5hIEJvbGQucGZi.png' - it's ok, skipping.\n",
      "Could not read: ./notMNIST_large/A/SG90IE11c3RhcmQgQlROIFBvc3Rlci50dGY=.png : cannot identify image file './notMNIST_large/A/SG90IE11c3RhcmQgQlROIFBvc3Rlci50dGY=.png' - it's ok, skipping.\n",
      "Could not read: ./notMNIST_large/A/RnJlaWdodERpc3BCb29rSXRhbGljLnR0Zg==.png : cannot identify image file './notMNIST_large/A/RnJlaWdodERpc3BCb29rSXRhbGljLnR0Zg==.png' - it's ok, skipping.\n",
      "Full dataset tensor: (52909, 28, 28)\n",
      "Mean: -0.12825\n",
      "Standard deviation: 0.443121\n",
      "Pickling ./notMNIST_large/B.pickle.\n",
      "./notMNIST_large/B\n",
      "Could not read: ./notMNIST_large/B/TmlraXNFRi1TZW1pQm9sZEl0YWxpYy5vdGY=.png : cannot identify image file './notMNIST_large/B/TmlraXNFRi1TZW1pQm9sZEl0YWxpYy5vdGY=.png' - it's ok, skipping.\n",
      "Full dataset tensor: (52911, 28, 28)\n",
      "Mean: -0.00756305\n",
      "Standard deviation: 0.454492\n",
      "Pickling ./notMNIST_large/C.pickle.\n",
      "./notMNIST_large/C\n",
      "Full dataset tensor: (52912, 28, 28)\n",
      "Mean: -0.142258\n",
      "Standard deviation: 0.439807\n",
      "Pickling ./notMNIST_large/D.pickle.\n",
      "./notMNIST_large/D\n",
      "Could not read: ./notMNIST_large/D/VHJhbnNpdCBCb2xkLnR0Zg==.png : cannot identify image file './notMNIST_large/D/VHJhbnNpdCBCb2xkLnR0Zg==.png' - it's ok, skipping.\n",
      "Full dataset tensor: (52911, 28, 28)\n",
      "Mean: -0.0573678\n",
      "Standard deviation: 0.455648\n",
      "Pickling ./notMNIST_large/E.pickle.\n",
      "./notMNIST_large/E\n",
      "Full dataset tensor: (52912, 28, 28)\n",
      "Mean: -0.069899\n",
      "Standard deviation: 0.452942\n",
      "Pickling ./notMNIST_large/F.pickle.\n",
      "./notMNIST_large/F\n",
      "Full dataset tensor: (52912, 28, 28)\n",
      "Mean: -0.125583\n",
      "Standard deviation: 0.447089\n",
      "Pickling ./notMNIST_large/G.pickle.\n",
      "./notMNIST_large/G\n",
      "Full dataset tensor: (52912, 28, 28)\n",
      "Mean: -0.0945814\n",
      "Standard deviation: 0.44624\n",
      "Pickling ./notMNIST_large/H.pickle.\n",
      "./notMNIST_large/H\n",
      "Full dataset tensor: (52912, 28, 28)\n",
      "Mean: -0.0685222\n",
      "Standard deviation: 0.454232\n",
      "Pickling ./notMNIST_large/I.pickle.\n",
      "./notMNIST_large/I\n",
      "Full dataset tensor: (52912, 28, 28)\n",
      "Mean: 0.0307862\n",
      "Standard deviation: 0.468899\n",
      "Pickling ./notMNIST_large/J.pickle.\n",
      "./notMNIST_large/J\n",
      "Full dataset tensor: (52911, 28, 28)\n",
      "Mean: -0.153358\n",
      "Standard deviation: 0.443656\n",
      "Pickling ./notMNIST_small/A.pickle.\n",
      "./notMNIST_small/A\n",
      "Could not read: ./notMNIST_small/A/RGVtb2NyYXRpY2FCb2xkT2xkc3R5bGUgQm9sZC50dGY=.png : cannot identify image file './notMNIST_small/A/RGVtb2NyYXRpY2FCb2xkT2xkc3R5bGUgQm9sZC50dGY=.png' - it's ok, skipping.\n",
      "Full dataset tensor: (1872, 28, 28)\n",
      "Mean: -0.132626\n",
      "Standard deviation: 0.445128\n",
      "Pickling ./notMNIST_small/B.pickle.\n",
      "./notMNIST_small/B\n",
      "Full dataset tensor: (1873, 28, 28)\n",
      "Mean: 0.00535608\n",
      "Standard deviation: 0.457115\n",
      "Pickling ./notMNIST_small/C.pickle.\n",
      "./notMNIST_small/C\n",
      "Full dataset tensor: (1873, 28, 28)\n",
      "Mean: -0.141521\n",
      "Standard deviation: 0.44269\n",
      "Pickling ./notMNIST_small/D.pickle.\n",
      "./notMNIST_small/D\n",
      "Full dataset tensor: (1873, 28, 28)\n",
      "Mean: -0.0492167\n",
      "Standard deviation: 0.459759\n",
      "Pickling ./notMNIST_small/E.pickle.\n",
      "./notMNIST_small/E\n",
      "Full dataset tensor: (1873, 28, 28)\n",
      "Mean: -0.0599148\n",
      "Standard deviation: 0.45735\n",
      "Pickling ./notMNIST_small/F.pickle.\n",
      "./notMNIST_small/F\n",
      "Could not read: ./notMNIST_small/F/Q3Jvc3NvdmVyIEJvbGRPYmxpcXVlLnR0Zg==.png : cannot identify image file './notMNIST_small/F/Q3Jvc3NvdmVyIEJvbGRPYmxpcXVlLnR0Zg==.png' - it's ok, skipping.\n",
      "Full dataset tensor: (1872, 28, 28)\n",
      "Mean: -0.118185\n",
      "Standard deviation: 0.452279\n",
      "Pickling ./notMNIST_small/G.pickle.\n",
      "./notMNIST_small/G\n",
      "Full dataset tensor: (1872, 28, 28)\n",
      "Mean: -0.0925503\n",
      "Standard deviation: 0.449006\n",
      "Pickling ./notMNIST_small/H.pickle.\n",
      "./notMNIST_small/H\n",
      "Full dataset tensor: (1872, 28, 28)\n",
      "Mean: -0.0586893\n",
      "Standard deviation: 0.458759\n",
      "Pickling ./notMNIST_small/I.pickle.\n",
      "./notMNIST_small/I\n",
      "Full dataset tensor: (1872, 28, 28)\n",
      "Mean: 0.0526451\n",
      "Standard deviation: 0.471893\n",
      "Pickling ./notMNIST_small/J.pickle.\n",
      "./notMNIST_small/J\n",
      "Full dataset tensor: (1872, 28, 28)\n",
      "Mean: -0.151689\n",
      "Standard deviation: 0.448014\n"
     ]
    }
   ],
   "source": [
    "image_size = 28  # Pixel width and height.\n",
    "pixel_depth = 255.0  # Number of levels per pixel.\n",
    "\n",
    "def load_letter(folder, min_num_images):\n",
    "  \"\"\"Load the data for a single letter label.\"\"\"\n",
    "  image_files = os.listdir(folder)\n",
    "  dataset = np.ndarray(shape=(len(image_files), image_size, image_size),\n",
    "                         dtype=np.float32)\n",
    "  print(folder)\n",
    "  num_images = 0\n",
    "  for image in image_files:\n",
    "    image_file = os.path.join(folder, image)\n",
    "    try:\n",
    "      image_data = (ndimage.imread(image_file).astype(float) - \n",
    "                    pixel_depth / 2) / pixel_depth\n",
    "      if image_data.shape != (image_size, image_size):\n",
    "        raise Exception('Unexpected image shape: %s' % str(image_data.shape))\n",
    "      dataset[num_images, :, :] = image_data\n",
    "      num_images = num_images + 1\n",
    "    except IOError as e:\n",
    "      print('Could not read:', image_file, ':', e, '- it\\'s ok, skipping.')\n",
    "    \n",
    "  dataset = dataset[0:num_images, :, :]\n",
    "  if num_images < min_num_images:\n",
    "    raise Exception('Many fewer images than expected: %d < %d' %\n",
    "                    (num_images, min_num_images))\n",
    "    \n",
    "  print('Full dataset tensor:', dataset.shape)\n",
    "  print('Mean:', np.mean(dataset))\n",
    "  print('Standard deviation:', np.std(dataset))\n",
    "  return dataset\n",
    "        \n",
    "def maybe_pickle(data_folders, min_num_images_per_class, force=False):\n",
    "  dataset_names = []\n",
    "  for folder in data_folders:\n",
    "    set_filename = folder + '.pickle'\n",
    "    dataset_names.append(set_filename)\n",
    "    if os.path.exists(set_filename) and not force:\n",
    "      # You may override by setting force=True.\n",
    "      print('%s already present - Skipping pickling.' % set_filename)\n",
    "    else:\n",
    "      print('Pickling %s.' % set_filename)\n",
    "      dataset = load_letter(folder, min_num_images_per_class)\n",
    "      try:\n",
    "        with open(set_filename, 'wb') as f:\n",
    "          pickle.dump(dataset, f, pickle.HIGHEST_PROTOCOL)\n",
    "      except Exception as e:\n",
    "        print('Unable to save data to', set_filename, ':', e)\n",
    "  \n",
    "  return dataset_names\n",
    "\n",
    "train_datasets = maybe_pickle(train_folders, 45000)\n",
    "test_datasets = maybe_pickle(test_folders, 1800)"
   ]
  },
  {
   "cell_type": "markdown",
   "metadata": {
    "colab_type": "text",
    "deletable": true,
    "editable": true,
    "id": "vUdbskYE2d87"
   },
   "source": [
    "---\n",
    "Problem 2\n",
    "---------\n",
    "\n",
    "Let's verify that the data still looks good. Displaying a sample of the labels and images from the ndarray. Hint: you can use matplotlib.pyplot.\n",
    "\n",
    "---"
   ]
  },
  {
   "cell_type": "code",
   "execution_count": 100,
   "metadata": {
    "collapsed": false,
    "deletable": true,
    "editable": true
   },
   "outputs": [
    {
     "data": {
      "text/plain": [
       "['./notMNIST_large/A.pickle',\n",
       " './notMNIST_large/B.pickle',\n",
       " './notMNIST_large/C.pickle',\n",
       " './notMNIST_large/D.pickle',\n",
       " './notMNIST_large/E.pickle',\n",
       " './notMNIST_large/F.pickle',\n",
       " './notMNIST_large/G.pickle',\n",
       " './notMNIST_large/H.pickle',\n",
       " './notMNIST_large/I.pickle',\n",
       " './notMNIST_large/J.pickle']"
      ]
     },
     "execution_count": 100,
     "metadata": {},
     "output_type": "execute_result"
    }
   ],
   "source": [
    "def coerce_letter2idx(letter = None):\n",
    "    if type(letter) is str and len(letter) > 1 and letter.endswith('pickle'):\n",
    "        # assume it is a full data filename\n",
    "        letter = letter[-8:-7]\n",
    "    letter_idx = 0 if type(letter) is not int else letter\n",
    "    if letter is not None:\n",
    "        letter_idx = ord(letter.upper()) - ord('A')\n",
    "    return letter_idx\n",
    "\n",
    "def coerce_letter2char(letter = None):\n",
    "    if type(letter) is str and len(letter) > 1 and letter.endswith('pickle'):\n",
    "        # assume it is a full data filename\n",
    "        return letter[-8:-7]\n",
    "    letter_chr = 'A' if type(letter) is not str else letter.upper()\n",
    "    if type(letter) is int:\n",
    "        letter_chr = chr(ord('A') + letter)\n",
    "    return letter_chr\n",
    "\n",
    "def get_data_filename(letter = None, is_test=False):\n",
    "    if type(letter) is str and len(letter) > 1 and letter.endswith('pickle'):\n",
    "        # assume it is a data filename\n",
    "        return letter\n",
    "    target_datasets = train_datasets if not is_test else test_datasets\n",
    "    data_filename = target_datasets[coerce_letter2idx(letter)]\n",
    "    return data_filename\n",
    "\n",
    "train_datasets"
   ]
  },
  {
   "cell_type": "code",
   "execution_count": 101,
   "metadata": {
    "collapsed": false,
    "deletable": true,
    "editable": true
   },
   "outputs": [
    {
     "name": "stdout",
     "output_type": "stream",
     "text": [
      "loading ./notMNIST_large/A.pickle ...\n"
     ]
    }
   ],
   "source": [
    "# train_datasets\n",
    "# def load_letter_pickle(letter = None):\n",
    "#     letter_idx = 0 if type(letter) is not int else letter\n",
    "#     if letter is not None:\n",
    "#         letter_idx = ord(letter.upper()) - ord('A')\n",
    "#     data_filename = train_datasets[letter_idx]\n",
    "#     with open(data_filename) as f:\n",
    "#         print('loading %s ...' % data_filename)\n",
    "#         data_loaded = pickle.load(f)\n",
    "#     return data_loaded\n",
    "\n",
    "def load_letter_pickle(letter = None, verbose=True):\n",
    "#     letter_idx = 0 if type(letter) is not int else letter\n",
    "#     if letter is not None:\n",
    "#         letter_idx = ord(letter.upper()) - ord('A')\n",
    "#     data_filename = train_datasets[letter_idx]\n",
    "    data_filename = get_data_filename(letter)\n",
    "    with open(data_filename) as f:\n",
    "        if verbose: print('loading %s ...' % data_filename)\n",
    "        data_loaded = pickle.load(f)\n",
    "    return data_loaded\n",
    "\n",
    "# pickle.load?\n",
    "my_train_a = load_letter_pickle(verbose=True)\n"
   ]
  },
  {
   "cell_type": "code",
   "execution_count": 80,
   "metadata": {
    "collapsed": false,
    "deletable": true,
    "editable": true
   },
   "outputs": [
    {
     "data": {
      "text/plain": [
       "(52909, 28, 28)"
      ]
     },
     "execution_count": 80,
     "metadata": {},
     "output_type": "execute_result"
    }
   ],
   "source": [
    "my_train_a.shape"
   ]
  },
  {
   "cell_type": "code",
   "execution_count": 66,
   "metadata": {
    "collapsed": false,
    "deletable": true,
    "editable": true,
    "scrolled": true
   },
   "outputs": [],
   "source": [
    "import matplotlib.cm as cm\n",
    "# cm.\n"
   ]
  },
  {
   "cell_type": "code",
   "execution_count": 151,
   "metadata": {
    "collapsed": false,
    "deletable": true,
    "editable": true
   },
   "outputs": [
    {
     "data": {
      "image/png": "[encoded data removed]",
      "text/plain": [
       "<matplotlib.figure.Figure at 0x7f2001624910>"
      ]
     },
     "metadata": {},
     "output_type": "display_data"
    }
   ],
   "source": [
    "#   messing around with plotting images    ###\n",
    "\n",
    "an_image = my_train_a[0,:,:]\n",
    "\n",
    "# fig, (ax1, ax2) = plt.subplots(figsize=(8, 3), ncols=2)\n",
    "fig, axes = plt.subplots(figsize=(12, 3), ncols=3)\n",
    "# fig, axes = plt.subplots(1,3)\n",
    "norm_img = axes[0].imshow(an_image)\n",
    "fig.colorbar(norm_img, ax=axes[0])\n",
    "\n",
    "# bw_img = axes[1].imshow(an_image,)\n",
    "pos_img = axes[1].imshow(an_image, clim=(-0.5, 0.5))\n",
    "fig.colorbar(pos_img, ax=axes[1])\n",
    "\n",
    "# bw_img = axes[1].imshow(an_image,)\n",
    "bw_img = axes[2].imshow(an_image, clim=(-0.5, 0.5), cmap='gray')\n",
    "fig.colorbar(bw_img, ax=axes[2])\n",
    "\n",
    "plt.show()\n",
    "\n"
   ]
  },
  {
   "cell_type": "code",
   "execution_count": 75,
   "metadata": {
    "collapsed": false,
    "deletable": true,
    "editable": true
   },
   "outputs": [
    {
     "data": {
      "image/png": "[encoded data removed]",
      "text/plain": [
       "<IPython.core.display.Image object>"
      ]
     },
     "metadata": {},
     "output_type": "display_data"
    }
   ],
   "source": [
    "a_dir_name = './notMNIST_large/A/'\n",
    "afiles = os.listdir(a_dir_name)\n",
    "an_a_image_file = os.path.join(a_dir_name, afiles[0])\n",
    "### NOTE: '\\=' in the system ls translates to just '=' here, in this (auto-escaped?) filename string\n",
    "an_a_image_obj = Image(filename=an_a_image_file)\n",
    "display(an_a_image_obj)\n"
   ]
  },
  {
   "cell_type": "code",
   "execution_count": 71,
   "metadata": {
    "collapsed": false,
    "deletable": true,
    "editable": true
   },
   "outputs": [
    {
     "data": {
      "text/plain": [
       "array([[-0.5       , -0.5       , -0.5       , -0.5       , -0.49215686,\n",
       "        -0.5       , -0.30784315,  0.39803922,  0.48431373,  0.5       ,\n",
       "         0.5       ,  0.5       ,  0.5       ,  0.5       ,  0.49607843,\n",
       "         0.5       , -0.22941177, -0.5       , -0.48823529, -0.5       ,\n",
       "        -0.5       , -0.5       , -0.5       , -0.5       , -0.5       ,\n",
       "        -0.5       , -0.5       , -0.5       ],\n",
       "       [-0.5       , -0.5       , -0.5       , -0.5       , -0.5       ,\n",
       "        -0.5       , -0.49215686, -0.40588236, -0.30784315, -0.07647059,\n",
       "         0.42941177,  0.5       ,  0.49607843,  0.5       ,  0.48823529,\n",
       "         0.5       ,  0.15490197, -0.5       , -0.48823529, -0.5       ,\n",
       "        -0.5       , -0.5       , -0.5       , -0.5       , -0.5       ,\n",
       "        -0.5       , -0.5       , -0.5       ],\n",
       "       [-0.5       , -0.5       , -0.5       , -0.5       , -0.5       ,\n",
       "        -0.5       , -0.5       , -0.5       , -0.48823529, -0.5       ,\n",
       "        -0.02156863,  0.5       ,  0.48431373,  0.5       ,  0.49607843,\n",
       "         0.5       ,  0.45686275, -0.33137256, -0.5       , -0.49215686,\n",
       "        -0.5       , -0.5       , -0.5       , -0.5       , -0.5       ,\n",
       "        -0.5       , -0.5       , -0.5       ],\n",
       "       [-0.5       , -0.5       , -0.5       , -0.5       , -0.5       ,\n",
       "        -0.5       , -0.5       , -0.49607843, -0.48039216, -0.5       ,\n",
       "         0.07647059,  0.5       ,  0.48039216,  0.49607843,  0.5       ,\n",
       "         0.48823529,  0.5       ,  0.02941176, -0.5       , -0.48823529,\n",
       "        -0.5       , -0.5       , -0.5       , -0.5       , -0.5       ,\n",
       "        -0.5       , -0.5       , -0.5       ],\n",
       "       [-0.5       , -0.5       , -0.5       , -0.5       , -0.5       ,\n",
       "        -0.5       , -0.5       , -0.49607843, -0.5       , -0.44901961,\n",
       "         0.37450981,  0.5       ,  0.49215686,  0.49607843,  0.5       ,\n",
       "         0.49215686,  0.5       ,  0.38627452, -0.4254902 , -0.5       ,\n",
       "        -0.49607843, -0.5       , -0.5       , -0.5       , -0.5       ,\n",
       "        -0.5       , -0.5       , -0.5       ],\n",
       "       [-0.5       , -0.5       , -0.5       , -0.5       , -0.5       ,\n",
       "        -0.5       , -0.5       , -0.48823529, -0.5       , -0.15882353,\n",
       "         0.5       ,  0.5       ,  0.28039217,  0.37843138,  0.5       ,\n",
       "         0.49607843,  0.48823529,  0.5       , -0.10784314, -0.5       ,\n",
       "        -0.48823529, -0.5       , -0.5       , -0.5       , -0.5       ,\n",
       "        -0.5       , -0.5       , -0.5       ],\n",
       "       [-0.5       , -0.5       , -0.5       , -0.5       , -0.5       ,\n",
       "        -0.5       , -0.5       , -0.49607843, -0.5       ,  0.23333333,\n",
       "         0.5       ,  0.5       , -0.30000001,  0.04117647,  0.5       ,\n",
       "         0.48823529,  0.49215686,  0.5       ,  0.28431374, -0.5       ,\n",
       "        -0.5       , -0.5       , -0.5       , -0.5       , -0.5       ,\n",
       "        -0.5       , -0.5       , -0.5       ],\n",
       "       [-0.5       , -0.5       , -0.5       , -0.5       , -0.5       ,\n",
       "        -0.5       , -0.48823529, -0.5       , -0.2764706 ,  0.48039216,\n",
       "         0.5       ,  0.2764706 , -0.5       , -0.32352942,  0.47254902,\n",
       "         0.5       ,  0.49607843,  0.49607843,  0.5       , -0.2372549 ,\n",
       "        -0.5       , -0.48823529, -0.5       , -0.5       , -0.5       ,\n",
       "        -0.5       , -0.5       , -0.5       ],\n",
       "       [-0.5       , -0.5       , -0.5       , -0.5       , -0.5       ,\n",
       "        -0.5       , -0.49215686, -0.5       ,  0.10392157,  0.5       ,\n",
       "         0.5       , -0.13137256, -0.5       , -0.5       ,  0.15490197,\n",
       "         0.5       ,  0.48823529,  0.48823529,  0.5       ,  0.15490197,\n",
       "        -0.5       , -0.49215686, -0.5       , -0.5       , -0.5       ,\n",
       "        -0.5       , -0.5       , -0.5       ],\n",
       "       [-0.5       , -0.5       , -0.5       , -0.5       , -0.5       ,\n",
       "        -0.49215686, -0.5       , -0.37058824,  0.42156863,  0.5       ,\n",
       "         0.34705883, -0.44117647, -0.5       , -0.5       , -0.26862746,\n",
       "         0.5       ,  0.49607843,  0.49607843,  0.5       ,  0.45294118,\n",
       "        -0.3392157 , -0.5       , -0.49215686, -0.5       , -0.5       ,\n",
       "        -0.5       , -0.5       , -0.5       ],\n",
       "       [-0.5       , -0.5       , -0.5       , -0.5       , -0.5       ,\n",
       "        -0.48823529, -0.5       , -0.01764706,  0.5       ,  0.5       ,\n",
       "        -0.00980392, -0.5       , -0.48431373, -0.49215686, -0.5       ,\n",
       "         0.22156863,  0.5       ,  0.48823529,  0.48431373,  0.5       ,\n",
       "         0.02156863, -0.5       , -0.48823529, -0.5       , -0.5       ,\n",
       "        -0.5       , -0.5       , -0.5       ],\n",
       "       [-0.5       , -0.5       , -0.5       , -0.5       , -0.49607843,\n",
       "        -0.5       , -0.46470588,  0.35490197,  0.5       ,  0.4254902 ,\n",
       "        -0.38235295, -0.5       , -0.49215686, -0.48823529, -0.5       ,\n",
       "        -0.20196079,  0.5       ,  0.49215686,  0.49215686,  0.5       ,\n",
       "         0.38627452, -0.43725491, -0.5       , -0.49607843, -0.5       ,\n",
       "        -0.5       , -0.5       , -0.5       ],\n",
       "       [-0.5       , -0.5       , -0.5       , -0.5       , -0.48823529,\n",
       "        -0.5       , -0.15490197,  0.5       ,  0.5       ,  0.10392157,\n",
       "        -0.5       , -0.48823529, -0.5       , -0.49607843, -0.5       ,\n",
       "        -0.49215686,  0.28431374,  0.5       ,  0.48823529,  0.48823529,\n",
       "         0.5       , -0.11960784, -0.5       , -0.48823529, -0.5       ,\n",
       "        -0.5       , -0.5       , -0.5       ],\n",
       "       [-0.5       , -0.5       , -0.5       , -0.5       , -0.49607843,\n",
       "        -0.5       ,  0.23333333,  0.5       ,  0.49215686, -0.29215688,\n",
       "        -0.5       , -0.49215686, -0.5       , -0.5       , -0.48823529,\n",
       "        -0.5       , -0.13529412,  0.5       ,  0.48823529,  0.49215686,\n",
       "         0.5       ,  0.27254903, -0.5       , -0.5       , -0.5       ,\n",
       "        -0.5       , -0.5       , -0.5       ],\n",
       "       [-0.5       , -0.5       , -0.5       , -0.48823529, -0.5       ,\n",
       "        -0.2647059 ,  0.48039216,  0.5       ,  0.22156863, -0.5       ,\n",
       "        -0.49607843, -0.5       , -0.5       , -0.5       , -0.49607843,\n",
       "        -0.5       , -0.46078432,  0.32745099,  0.5       ,  0.48823529,\n",
       "         0.49607843,  0.5       , -0.24117647, -0.5       , -0.48823529,\n",
       "        -0.5       , -0.5       , -0.5       ],\n",
       "       [-0.5       , -0.5       , -0.5       , -0.49215686, -0.5       ,\n",
       "         0.11568628,  0.5       ,  0.5       , -0.17450981, -0.5       ,\n",
       "        -0.48039216, -0.49215686, -0.49215686, -0.49215686, -0.49215686,\n",
       "        -0.47647059, -0.5       , -0.07254902,  0.5       ,  0.48823529,\n",
       "         0.48823529,  0.5       ,  0.14313726, -0.5       , -0.49215686,\n",
       "        -0.5       , -0.5       , -0.5       ],\n",
       "       [-0.5       , -0.5       , -0.49215686, -0.5       , -0.37058824,\n",
       "         0.43333334,  0.5       ,  0.28823531, -0.48039216, -0.5       ,\n",
       "        -0.49607843, -0.5       , -0.5       , -0.5       , -0.5       ,\n",
       "        -0.49607843, -0.5       , -0.44117647,  0.35490197,  0.5       ,\n",
       "         0.48823529,  0.5       ,  0.45294118, -0.34705883, -0.5       ,\n",
       "        -0.49215686, -0.5       , -0.5       ],\n",
       "       [-0.5       , -0.5       , -0.48823529, -0.5       , -0.00980392,\n",
       "         0.5       ,  0.49607843,  0.38235295,  0.22941177,  0.25294119,\n",
       "         0.24901961,  0.24901961,  0.24901961,  0.24901961,  0.24901961,\n",
       "         0.24901961,  0.25294119,  0.22941177,  0.39803922,  0.5       ,\n",
       "         0.49607843,  0.48431373,  0.5       ,  0.01764706, -0.5       ,\n",
       "        -0.48823529, -0.5       , -0.5       ],\n",
       "       [-0.5       , -0.49607843, -0.5       , -0.46078432,  0.36274511,\n",
       "         0.5       ,  0.49215686,  0.5       ,  0.5       ,  0.5       ,\n",
       "         0.5       ,  0.5       ,  0.5       ,  0.5       ,  0.5       ,\n",
       "         0.5       ,  0.5       ,  0.5       ,  0.5       ,  0.5       ,\n",
       "         0.5       ,  0.49215686,  0.5       ,  0.37843138, -0.44901961,\n",
       "        -0.5       , -0.49607843, -0.5       ],\n",
       "       [-0.5       , -0.48823529, -0.5       , -0.14705883,  0.5       ,\n",
       "         0.5       ,  0.25686276, -0.1627451 , -0.12352941, -0.13137256,\n",
       "        -0.13137256, -0.13137256, -0.13137256, -0.13137256, -0.13137256,\n",
       "        -0.13137256, -0.13137256, -0.12352941, -0.15882353,  0.28823531,\n",
       "         0.5       ,  0.49215686,  0.48823529,  0.5       , -0.12745099,\n",
       "        -0.5       , -0.48823529, -0.5       ],\n",
       "       [-0.5       , -0.5       , -0.5       ,  0.24901961,  0.5       ,\n",
       "         0.5       , -0.22941177, -0.5       , -0.48823529, -0.5       ,\n",
       "        -0.5       , -0.5       , -0.5       , -0.5       , -0.5       ,\n",
       "        -0.5       , -0.5       , -0.48823529, -0.5       , -0.18235295,\n",
       "         0.5       ,  0.49215686,  0.49215686,  0.5       ,  0.2647059 ,\n",
       "        -0.5       , -0.5       , -0.5       ],\n",
       "       [-0.48823529, -0.5       , -0.25294119,  0.48431373,  0.5       ,\n",
       "         0.27254903, -0.48431373, -0.48823529, -0.48039216, -0.48431373,\n",
       "        -0.48431373, -0.48431373, -0.48431373, -0.48431373, -0.48431373,\n",
       "        -0.48431373, -0.48431373, -0.48039216, -0.49215686, -0.46078432,\n",
       "         0.31568629,  0.5       ,  0.48823529,  0.5       ,  0.5       ,\n",
       "        -0.24117647, -0.5       , -0.48823529],\n",
       "       [-0.49215686, -0.5       ,  0.12745099,  0.5       ,  0.5       ,\n",
       "        -0.1       , -0.5       , -0.48823529, -0.5       , -0.5       ,\n",
       "        -0.5       , -0.5       , -0.5       , -0.5       , -0.5       ,\n",
       "        -0.5       , -0.5       , -0.5       , -0.48431373, -0.5       ,\n",
       "        -0.04509804,  0.5       ,  0.48823529,  0.48823529,  0.5       ,\n",
       "         0.13921569, -0.5       , -0.49215686],\n",
       "       [-0.5       , -0.36666667,  0.45294118,  0.5       ,  0.37843138,\n",
       "        -0.43725491, -0.5       , -0.49607843, -0.5       , -0.5       ,\n",
       "        -0.5       , -0.5       , -0.5       , -0.5       , -0.5       ,\n",
       "        -0.5       , -0.5       , -0.5       , -0.49607843, -0.5       ,\n",
       "        -0.40588236,  0.42156863,  0.5       ,  0.49215686,  0.5       ,\n",
       "         0.46078432, -0.35882354, -0.5       ],\n",
       "       [-0.5       , -0.00980392,  0.5       ,  0.5       ,  0.03333334,\n",
       "        -0.5       , -0.48431373, -0.5       , -0.5       , -0.5       ,\n",
       "        -0.5       , -0.5       , -0.5       , -0.5       , -0.5       ,\n",
       "        -0.5       , -0.5       , -0.5       , -0.5       , -0.48823529,\n",
       "        -0.5       ,  0.09215686,  0.5       ,  0.48823529,  0.48431373,\n",
       "         0.5       , -0.00196078, -0.5       ],\n",
       "       [-0.45686275,  0.3509804 ,  0.5       ,  0.47254902, -0.34313726,\n",
       "        -0.5       , -0.49215686, -0.5       , -0.5       , -0.5       ,\n",
       "        -0.5       , -0.5       , -0.5       , -0.5       , -0.5       ,\n",
       "        -0.5       , -0.5       , -0.5       , -0.5       , -0.49215686,\n",
       "        -0.5       , -0.29607844,  0.5       ,  0.5       ,  0.49215686,\n",
       "         0.5       ,  0.35882354, -0.45686275],\n",
       "       [-0.10784314,  0.5       ,  0.5       ,  0.16666667, -0.5       ,\n",
       "        -0.49215686, -0.5       , -0.5       , -0.5       , -0.5       ,\n",
       "        -0.5       , -0.5       , -0.5       , -0.5       , -0.5       ,\n",
       "        -0.5       , -0.5       , -0.5       , -0.5       , -0.5       ,\n",
       "        -0.49607843, -0.5       ,  0.21764706,  0.5       ,  0.48823529,\n",
       "         0.49607843,  0.5       , -0.10784314],\n",
       "       [ 0.28039217,  0.5       ,  0.5       , -0.20980392, -0.5       ,\n",
       "        -0.48823529, -0.5       , -0.5       , -0.5       , -0.5       ,\n",
       "        -0.5       , -0.5       , -0.5       , -0.5       , -0.5       ,\n",
       "        -0.5       , -0.5       , -0.5       , -0.5       , -0.5       ,\n",
       "        -0.48823529, -0.5       , -0.15490197,  0.5       ,  0.49215686,\n",
       "         0.49215686,  0.5       ,  0.28039217]], dtype=float32)"
      ]
     },
     "execution_count": 71,
     "metadata": {},
     "output_type": "execute_result"
    }
   ],
   "source": [
    "an_image"
   ]
  },
  {
   "cell_type": "code",
   "execution_count": 174,
   "metadata": {
    "collapsed": false,
    "deletable": true,
    "editable": true
   },
   "outputs": [
    {
     "data": {
      "image/png": "[encoded data removed]",
      "text/plain": [
       "<matplotlib.figure.Figure at 0x7f2001a0f310>"
      ]
     },
     "metadata": {},
     "output_type": "display_data"
    },
    {
     "data": {
      "image/png": "[encoded data removed]",
      "text/plain": [
       "<matplotlib.figure.Figure at 0x7f2000f54710>"
      ]
     },
     "metadata": {},
     "output_type": "display_data"
    }
   ],
   "source": [
    "def show_some_images(list_images, do_colorbar=True, cmap='gray', scale=1.0):\n",
    "    #   messing around with plotting images    ###\n",
    "    #     an_image = my_train_a[0,:,:]\n",
    "    # fig, (ax1, ax2) = plt.subplots(figsize=(8, 3), ncols=2)\n",
    "    \n",
    "    num_images = len(list_images)\n",
    "    num_cols = 3\n",
    "    num_rows = num_images // num_cols + int(num_images % num_cols > 0)\n",
    "    \n",
    "    figsize = (scale*4*num_cols, scale*3*num_rows)\n",
    "    fig, axes = plt.subplots(figsize=figsize, ncols=num_cols, nrows=num_rows)\n",
    "    \n",
    "    # fig, axes = plt.subplots(1,3)\n",
    "    for i,img in enumerate(list_images):\n",
    "        r = i // num_cols\n",
    "        c = i % num_cols\n",
    "        target_axis = axes[r, c] if num_rows > 1 else axes[i]\n",
    "\n",
    "        h_img = target_axis.imshow(img, clim=(-0.5, 0.5), cmap=cmap)\n",
    "\n",
    "        if do_colorbar: fig.colorbar(h_img, ax=target_axis)\n",
    "    \n",
    "    plt.show()\n",
    "\n",
    "some_images = my_train_a[0:5,:,:]\n",
    "show_some_images(some_images)\n",
    "show_some_images([some_images[0,:,:], some_images[1,:,:]])"
   ]
  },
  {
   "cell_type": "markdown",
   "metadata": {
    "colab_type": "text",
    "deletable": true,
    "editable": true,
    "id": "cYznx5jUwzoO"
   },
   "source": [
    "---\n",
    "Problem 3\n",
    "---------\n",
    "Another check: we expect the data to be balanced across classes. Verify that.\n",
    "\n",
    "---"
   ]
  },
  {
   "cell_type": "code",
   "execution_count": 124,
   "metadata": {
    "collapsed": false,
    "deletable": true,
    "editable": true
   },
   "outputs": [
    {
     "data": {
      "text/plain": [
       "['./notMNIST_large/A.pickle',\n",
       " './notMNIST_large/B.pickle',\n",
       " './notMNIST_large/C.pickle',\n",
       " './notMNIST_large/D.pickle',\n",
       " './notMNIST_large/E.pickle',\n",
       " './notMNIST_large/F.pickle',\n",
       " './notMNIST_large/G.pickle',\n",
       " './notMNIST_large/H.pickle',\n",
       " './notMNIST_large/I.pickle',\n",
       " './notMNIST_large/J.pickle']"
      ]
     },
     "metadata": {},
     "output_type": "display_data"
    },
    {
     "name": "stdout",
     "output_type": "stream",
     "text": [
      "loading ./notMNIST_large/A.pickle ...\n",
      "loading ./notMNIST_large/B.pickle ...\n",
      "loading ./notMNIST_large/C.pickle ...\n",
      "loading ./notMNIST_large/D.pickle ...\n",
      "loading ./notMNIST_large/E.pickle ...\n",
      "loading ./notMNIST_large/F.pickle ...\n",
      "loading ./notMNIST_large/G.pickle ...\n",
      "loading ./notMNIST_large/H.pickle ...\n",
      "loading ./notMNIST_large/I.pickle ...\n",
      "loading ./notMNIST_large/J.pickle ...\n"
     ]
    },
    {
     "data": {
      "text/plain": [
       "{'A': {'mean': -0.12825006, 'n_samples': 52909, 'stddev': 0.44312081},\n",
       " 'B': {'mean': -0.0075630452, 'n_samples': 52911, 'stddev': 0.45449153},\n",
       " 'C': {'mean': -0.14225802, 'n_samples': 52912, 'stddev': 0.43980655},\n",
       " 'D': {'mean': -0.057367764, 'n_samples': 52911, 'stddev': 0.45564756},\n",
       " 'E': {'mean': -0.069899015, 'n_samples': 52912, 'stddev': 0.45294186},\n",
       " 'F': {'mean': -0.12558332, 'n_samples': 52912, 'stddev': 0.44708923},\n",
       " 'G': {'mean': -0.09458144, 'n_samples': 52912, 'stddev': 0.44623998},\n",
       " 'H': {'mean': -0.0685222, 'n_samples': 52912, 'stddev': 0.4542315},\n",
       " 'I': {'mean': 0.030786211, 'n_samples': 52912, 'stddev': 0.46889862},\n",
       " 'J': {'mean': -0.15335847, 'n_samples': 52911, 'stddev': 0.44365647}}"
      ]
     },
     "metadata": {},
     "output_type": "display_data"
    }
   ],
   "source": [
    "# Check data sets are \"balanced\" -\n",
    "#   roughly similar number of samples/class\n",
    "#   and roughly similar descriptave statistics of data\n",
    "#   (pretty basic - avg pixel lightness) i.e. mean + std_dev \n",
    "\n",
    "# names of pickled files\n",
    "train_datasets\n",
    "\n",
    "def get_data_stats(letter=None):\n",
    "    letter_class = coerce_letter2char(letter)\n",
    "    cls_data = load_letter_pickle(letter)\n",
    "#     cls_data = load_letter_pickle(letter_class, verbose=False)\n",
    "    return calc_data_stats(cls_data, letter_class)\n",
    "\n",
    "def calc_data_stats(cls_data, letter_class = None):\n",
    "    cstats = dict()\n",
    "    cstats['label'] = letter_class if letter_class is not None else ''\n",
    "    cstats['n_samples'] = cls_data.shape[0]\n",
    "    cstats['mean'] = cls_data.mean()   # hopefully, around 0\n",
    "    cstats['stddev'] = cls_data.std()  # hopefully, similar to other samples/sets\n",
    "    return cstats\n",
    "\n",
    "display(train_datasets)\n",
    "\n",
    "data_stats = [get_data_stats(datafile) for datafile in train_datasets]\n",
    "# display(data_stats)\n",
    "d_data_stats = dict()\n",
    "d_data_stats = {d.pop('label'): d for d in data_stats}\n",
    "# d_data_stats = dict()\n",
    "# for d in data_stats:\n",
    "#     label = d.pop('label')\n",
    "#     d_data_stats[label] = d\n",
    "\n",
    "# a_data = load_letter_pickle()\n",
    "# display(a_data.shape)\n",
    "# display(a_data.mean())\n",
    "# display(a_data.std())\n",
    "\n",
    "# display(get_data_stats('a'))\n",
    "display(d_data_stats)"
   ]
  },
  {
   "cell_type": "markdown",
   "metadata": {
    "colab_type": "text",
    "deletable": true,
    "editable": true,
    "id": "LA7M7K22ynCt"
   },
   "source": [
    "Merge and prune the training data as needed. Depending on your computer setup, you might not be able to fit it all in memory, and you can tune `train_size` as needed. The labels will be stored into a separate array of integers 0 through 9.\n",
    "\n",
    "Also create a validation dataset for hyperparameter tuning."
   ]
  },
  {
   "cell_type": "code",
   "execution_count": 114,
   "metadata": {
    "cellView": "both",
    "colab": {
     "autoexec": {
      "startup": false,
      "wait_interval": 0
     },
     "output_extras": [
      {
       "item_id": 1
      }
     ]
    },
    "colab_type": "code",
    "collapsed": false,
    "deletable": true,
    "editable": true,
    "executionInfo": {
     "elapsed": 411281,
     "status": "ok",
     "timestamp": 1444485897869,
     "user": {
      "color": "#1FA15D",
      "displayName": "Vincent Vanhoucke",
      "isAnonymous": false,
      "isMe": true,
      "permissionId": "05076109866853157986",
      "photoUrl": "//lh6.googleusercontent.com/-cCJa7dTDcgQ/AAAAAAAAAAI/AAAAAAAACgw/r2EZ_8oYer4/s50-c-k-no/photo.jpg",
      "sessionId": "2a0a5e044bb03b66",
      "userId": "102167687554210253930"
     },
     "user_tz": 420
    },
    "id": "s3mWgZLpyuzq",
    "outputId": "8af66da6-902d-4719-bedc-7c9fb7ae7948"
   },
   "outputs": [
    {
     "name": "stdout",
     "output_type": "stream",
     "text": [
      "Training:   (200000, 28, 28) (200000,)\n",
      "Validation: (10000, 28, 28) (10000,)\n",
      "Testing:    (10000, 28, 28) (10000,)\n"
     ]
    }
   ],
   "source": [
    "def make_arrays(nb_rows, img_size):\n",
    "  if nb_rows:\n",
    "    dataset = np.ndarray((nb_rows, img_size, img_size), dtype=np.float32)\n",
    "    labels = np.ndarray(nb_rows, dtype=np.int32)\n",
    "  else:\n",
    "    dataset, labels = None, None\n",
    "  return dataset, labels\n",
    "\n",
    "def merge_datasets(pickle_files, train_size, valid_size=0):\n",
    "  num_classes = len(pickle_files)\n",
    "  valid_dataset, valid_labels = make_arrays(valid_size, image_size)\n",
    "  train_dataset, train_labels = make_arrays(train_size, image_size)\n",
    "  vsize_per_class = valid_size // num_classes\n",
    "  tsize_per_class = train_size // num_classes\n",
    "    \n",
    "  start_v, start_t = 0, 0\n",
    "  end_v, end_t = vsize_per_class, tsize_per_class\n",
    "  end_l = vsize_per_class+tsize_per_class\n",
    "  for label, pickle_file in enumerate(pickle_files):       \n",
    "    try:\n",
    "      with open(pickle_file, 'rb') as f:\n",
    "        letter_set = pickle.load(f)\n",
    "        # let's shuffle the letters to have random validation and training set\n",
    "        np.random.shuffle(letter_set)\n",
    "        if valid_dataset is not None:\n",
    "          valid_letter = letter_set[:vsize_per_class, :, :]\n",
    "          valid_dataset[start_v:end_v, :, :] = valid_letter\n",
    "          valid_labels[start_v:end_v] = label\n",
    "          start_v += vsize_per_class\n",
    "          end_v += vsize_per_class\n",
    "                    \n",
    "        train_letter = letter_set[vsize_per_class:end_l, :, :]\n",
    "        train_dataset[start_t:end_t, :, :] = train_letter\n",
    "        train_labels[start_t:end_t] = label\n",
    "        start_t += tsize_per_class\n",
    "        end_t += tsize_per_class\n",
    "    except Exception as e:\n",
    "      print('Unable to process data from', pickle_file, ':', e)\n",
    "      raise\n",
    "    \n",
    "  return valid_dataset, valid_labels, train_dataset, train_labels\n",
    "            \n",
    "            \n",
    "train_size = 200000\n",
    "valid_size = 10000\n",
    "test_size  = 10000\n",
    "\n",
    "valid_dataset, valid_labels, train_dataset, train_labels = merge_datasets(\n",
    "  train_datasets, train_size, valid_size)\n",
    "_, _, test_dataset, test_labels = merge_datasets(test_datasets, test_size)\n",
    "\n",
    "print('Training:  ', train_dataset.shape, train_labels.shape)\n",
    "print('Validation:', valid_dataset.shape, valid_labels.shape)\n",
    "print('Testing:   ', test_dataset.shape, test_labels.shape)"
   ]
  },
  {
   "cell_type": "markdown",
   "metadata": {
    "colab_type": "text",
    "deletable": true,
    "editable": true,
    "id": "GPTCnjIcyuKN"
   },
   "source": [
    "Next, we'll randomize the data. It's important to have the labels well shuffled for the training and test distributions to match."
   ]
  },
  {
   "cell_type": "code",
   "execution_count": 117,
   "metadata": {
    "cellView": "both",
    "colab": {
     "autoexec": {
      "startup": false,
      "wait_interval": 0
     }
    },
    "colab_type": "code",
    "collapsed": true,
    "deletable": true,
    "editable": true,
    "id": "6WZ2l2tN2zOL"
   },
   "outputs": [],
   "source": [
    "def randomize(dataset, labels):\n",
    "  permutation = np.random.permutation(labels.shape[0])\n",
    "  shuffled_dataset = dataset[permutation,:,:]\n",
    "  shuffled_labels = labels[permutation]\n",
    "  return shuffled_dataset, shuffled_labels\n",
    "train_dataset, train_labels = randomize(train_dataset, train_labels)\n",
    "test_dataset, test_labels = randomize(test_dataset, test_labels)\n",
    "valid_dataset, valid_labels = randomize(valid_dataset, valid_labels)"
   ]
  },
  {
   "cell_type": "code",
   "execution_count": 115,
   "metadata": {
    "collapsed": true,
    "deletable": true,
    "editable": true
   },
   "outputs": [],
   "source": [
    "np.random.permutation?"
   ]
  },
  {
   "cell_type": "markdown",
   "metadata": {
    "colab_type": "text",
    "deletable": true,
    "editable": true,
    "id": "puDUTe6t6USl"
   },
   "source": [
    "---\n",
    "Problem 4\n",
    "---------\n",
    "Convince yourself that the data is still good after shuffling!\n",
    "\n",
    "---"
   ]
  },
  {
   "cell_type": "code",
   "execution_count": 183,
   "metadata": {
    "collapsed": false,
    "deletable": true,
    "editable": true
   },
   "outputs": [
    {
     "data": {
      "text/plain": [
       "{'label': 'train',\n",
       " 'mean': -0.081478514,\n",
       " 'n_samples': 200000,\n",
       " 'stddev': 0.45424902}"
      ]
     },
     "metadata": {},
     "output_type": "display_data"
    },
    {
     "data": {
      "text/plain": [
       "{'label': 'test',\n",
       " 'mean': -0.075375043,\n",
       " 'n_samples': 10000,\n",
       " 'stddev': 0.45838299}"
      ]
     },
     "metadata": {},
     "output_type": "display_data"
    },
    {
     "data": {
      "text/plain": [
       "{'label': 'valid',\n",
       " 'mean': -0.084926873,\n",
       " 'n_samples': 10000,\n",
       " 'stddev': 0.45379186}"
      ]
     },
     "metadata": {},
     "output_type": "display_data"
    },
    {
     "data": {
      "text/plain": [
       "0"
      ]
     },
     "metadata": {},
     "output_type": "display_data"
    },
    {
     "data": {
      "text/plain": [
       "(28, 28)"
      ]
     },
     "metadata": {},
     "output_type": "display_data"
    },
    {
     "data": {
      "text/plain": [
       "1"
      ]
     },
     "metadata": {},
     "output_type": "display_data"
    },
    {
     "data": {
      "text/plain": [
       "(28, 28)"
      ]
     },
     "metadata": {},
     "output_type": "display_data"
    },
    {
     "data": {
      "image/png": "[encoded data removed]",
      "text/plain": [
       "<matplotlib.figure.Figure at 0x7f20007a91d0>"
      ]
     },
     "metadata": {},
     "output_type": "display_data"
    }
   ],
   "source": [
    "display(calc_data_stats(train_dataset, 'train'))\n",
    "display(calc_data_stats(test_dataset, 'test'))\n",
    "display(calc_data_stats(valid_dataset, 'valid'))\n",
    "test = valid_dataset[0:2,:,:]\n",
    "for i,v in enumerate(test):\n",
    "    display(i, v.shape)\n",
    "show_some_images(valid_dataset[0:10,:,:], scale=0.5)\n",
    "# show_some_images(valid_dataset[1:3,:,:])\n",
    "# valid_labels[2]"
   ]
  },
  {
   "cell_type": "markdown",
   "metadata": {
    "colab_type": "text",
    "deletable": true,
    "editable": true,
    "id": "tIQJaJuwg5Hw"
   },
   "source": [
    "Finally, let's save the data for later reuse:"
   ]
  },
  {
   "cell_type": "code",
   "execution_count": 131,
   "metadata": {
    "cellView": "both",
    "colab": {
     "autoexec": {
      "startup": false,
      "wait_interval": 0
     }
    },
    "colab_type": "code",
    "collapsed": true,
    "deletable": true,
    "editable": true,
    "id": "QiR_rETzem6C"
   },
   "outputs": [],
   "source": [
    "pickle_file = os.path.join(data_root, 'notMNIST.pickle')\n",
    "\n",
    "try:\n",
    "  f = open(pickle_file, 'wb')\n",
    "  save = {\n",
    "    'train_dataset': train_dataset,\n",
    "    'train_labels': train_labels,\n",
    "    'valid_dataset': valid_dataset,\n",
    "    'valid_labels': valid_labels,\n",
    "    'test_dataset': test_dataset,\n",
    "    'test_labels': test_labels,\n",
    "    }\n",
    "  pickle.dump(save, f, pickle.HIGHEST_PROTOCOL)\n",
    "  f.close()\n",
    "except Exception as e:\n",
    "  print('Unable to save data to', pickle_file, ':', e)\n",
    "  raise"
   ]
  },
  {
   "cell_type": "code",
   "execution_count": 132,
   "metadata": {
    "cellView": "both",
    "colab": {
     "autoexec": {
      "startup": false,
      "wait_interval": 0
     },
     "output_extras": [
      {
       "item_id": 1
      }
     ]
    },
    "colab_type": "code",
    "collapsed": false,
    "deletable": true,
    "editable": true,
    "executionInfo": {
     "elapsed": 413065,
     "status": "ok",
     "timestamp": 1444485899688,
     "user": {
      "color": "#1FA15D",
      "displayName": "Vincent Vanhoucke",
      "isAnonymous": false,
      "isMe": true,
      "permissionId": "05076109866853157986",
      "photoUrl": "//lh6.googleusercontent.com/-cCJa7dTDcgQ/AAAAAAAAAAI/AAAAAAAACgw/r2EZ_8oYer4/s50-c-k-no/photo.jpg",
      "sessionId": "2a0a5e044bb03b66",
      "userId": "102167687554210253930"
     },
     "user_tz": 420
    },
    "id": "hQbLjrW_iT39",
    "outputId": "b440efc6-5ee1-4cbc-d02d-93db44ebd956"
   },
   "outputs": [
    {
     "name": "stdout",
     "output_type": "stream",
     "text": [
      "Compressed pickle size: 690800441\n"
     ]
    }
   ],
   "source": [
    "statinfo = os.stat(pickle_file)\n",
    "print('Compressed pickle size:', statinfo.st_size)"
   ]
  },
  {
   "cell_type": "markdown",
   "metadata": {
    "colab_type": "text",
    "deletable": true,
    "editable": true,
    "id": "gE_cRAQB33lk"
   },
   "source": [
    "---\n",
    "Problem 5\n",
    "---------\n",
    "\n",
    "By construction, this dataset might contain a lot of overlapping samples, including training data that's also contained in the validation and test set! Overlap between training and test can skew the results if you expect to use your model in an environment where there is never an overlap, but are actually ok if you expect to see training samples recur when you use it.\n",
    "Measure how much overlap there is between training, validation and test samples.\n",
    "\n",
    "Optional questions:\n",
    "- What about near duplicates between datasets? (images that are almost identical)\n",
    "- Create a sanitized validation and test set, and compare your accuracy on those in subsequent assignments.\n",
    "---"
   ]
  },
  {
   "cell_type": "code",
   "execution_count": 265,
   "metadata": {
    "collapsed": false,
    "deletable": true,
    "editable": true
   },
   "outputs": [
    {
     "data": {
      "text/plain": [
       "(10000, 28, 28)"
      ]
     },
     "metadata": {},
     "output_type": "display_data"
    },
    {
     "data": {
      "text/plain": [
       "{'all_close': False, 'mse': 281.96988}"
      ]
     },
     "metadata": {},
     "output_type": "display_data"
    },
    {
     "data": {
      "image/png": "[encoded data removed]",
      "text/plain": [
       "<matplotlib.figure.Figure at 0x7f20001e72d0>"
      ]
     },
     "metadata": {},
     "output_type": "display_data"
    },
    {
     "data": {
      "text/plain": [
       "{'all_close': True, 'mse': 0.0}"
      ]
     },
     "metadata": {},
     "output_type": "display_data"
    },
    {
     "data": {
      "image/png": "[encoded data removed]",
      "text/plain": [
       "<matplotlib.figure.Figure at 0x7f20014d5e90>"
      ]
     },
     "metadata": {},
     "output_type": "display_data"
    }
   ],
   "source": [
    "# train_dataset.shape\n",
    "display(valid_dataset.shape)\n",
    "# np.unique(valid_dataset, axis=0)\n",
    "# np.version.full_version  # 1.12.0\n",
    "img_a = valid_dataset[0]\n",
    "img_b = valid_dataset[1]\n",
    "\n",
    "# diff_1 = (img_b - img_a) ** 2\n",
    "# display(np.sum(diff_1))\n",
    "# show_some_images([img_a, img_b, diff_1])\n",
    "\n",
    "\"\"\"Note: another way of computing 'similar' besides mse\n",
    "could be the Structural Similarity Index\n",
    "    (see: https://www.pyimagesearch.com/2014/09/15/python-compare-two-images/)\n",
    "    (and: http://scikit-image.org/docs/dev/api/skimage.measure.html#skimage.measure.compare_ssim)\n",
    "It seems to use windows and directional x, y intensity means(???)\n",
    "In general, I would have liked to find some convolution / window-esque way of matching.\n",
    "It is a good note that structural is also a way /dimension of being \"similar\" but not exactly the same.\n",
    "\"\"\"\n",
    "## Note: another way of computing this would be \n",
    "\n",
    "def mse(img_a, img_b):\n",
    "    if img_a.ndim != img_b.ndim and (img_a.ndim == 3 or img_b.ndim == 3):\n",
    "        # quick hack to handle array of imgs vs 1 img: (1000, 28, 28) - (28, 28)\n",
    "        return np.sum((img_a - img_b) ** 2, axis=(1,2))\n",
    "    return np.sum((img_a - img_b) ** 2)\n",
    "\n",
    "def check_similar(img_a, img_b, do_display=True):\n",
    "    diff_1 = (img_a - img_b) ** 2\n",
    "    res = dict()\n",
    "    res['mse'] = np.sum(diff_1)\n",
    "    res['all_close'] = np.allclose(img_a, img_b)\n",
    "    if do_display:\n",
    "        display(res)\n",
    "        show_some_images([img_a, img_b, diff_1])\n",
    "    return res\n",
    "\n",
    "res = check_similar(img_a, img_b)\n",
    "\n",
    "res = check_similar(img_a, img_a)\n",
    "\n",
    "\n"
   ]
  },
  {
   "cell_type": "code",
   "execution_count": 264,
   "metadata": {
    "collapsed": false,
    "deletable": true,
    "editable": true
   },
   "outputs": [
    {
     "data": {
      "text/plain": [
       "(10000, 28, 28)"
      ]
     },
     "metadata": {},
     "output_type": "display_data"
    },
    {
     "data": {
      "text/plain": [
       "(28, 28)"
      ]
     },
     "metadata": {},
     "output_type": "display_data"
    },
    {
     "data": {
      "text/plain": [
       "(10000,)"
      ]
     },
     "metadata": {},
     "output_type": "display_data"
    },
    {
     "data": {
      "text/plain": [
       "(array([   0, 3018, 8554]),)"
      ]
     },
     "metadata": {},
     "output_type": "display_data"
    },
    {
     "data": {
      "image/png": "[encoded data removed]",
      "text/plain": [
       "<matplotlib.figure.Figure at 0x7f20001e7b50>"
      ]
     },
     "metadata": {},
     "output_type": "display_data"
    },
    {
     "data": {
      "image/png": "[encoded data removed]",
      "text/plain": [
       "<matplotlib.figure.Figure at 0x7f20015c8650>"
      ]
     },
     "metadata": {},
     "output_type": "display_data"
    },
    {
     "data": {
      "text/plain": [
       "array([   32.,   104.,   368.,  1015.,  2631.,  3441.,  1714.,   423.,\n",
       "         202.,    70.])"
      ]
     },
     "metadata": {},
     "output_type": "display_data"
    },
    {
     "data": {
      "text/plain": [
       "array([   0.        ,   53.83853149,  107.67706299,  161.51559448,\n",
       "        215.35412598,  269.19265747,  323.03118896,  376.86972046,\n",
       "        430.70825195,  484.54678345,  538.38531494])"
      ]
     },
     "metadata": {},
     "output_type": "display_data"
    },
    {
     "data": {
      "image/png": "[encoded data removed]",
      "text/plain": [
       "<matplotlib.figure.Figure at 0x7f2000302450>"
      ]
     },
     "metadata": {},
     "output_type": "display_data"
    }
   ],
   "source": [
    "# train_dataset.shape\n",
    "# display(valid_dataset.shape)\n",
    "# np.unique(valid_dataset, axis=0)\n",
    "# np.version.full_version  # 1.12.0\n",
    "img_a = valid_dataset[0]\n",
    "img_b = valid_dataset[1]\n",
    "\n",
    "s_set = valid_dataset[0:10]\n",
    "s_set.shape\n",
    "mse(s_set, img_a)\n",
    "len(s_set)\n",
    "\n",
    "# get mse between an img and an array of imgs\n",
    "s_set = valid_dataset\n",
    "# v_mse = [mse(s_set[i], img_a) for i in xrange(s_set.shape[0])]\n",
    "\n",
    "\n",
    "display(s_set.shape)\n",
    "display(img_a.shape)\n",
    "# x = (s_set - img_a)**2\n",
    "v_mse = np.sum((s_set - img_a)**2, axis=(1,2))\n",
    "display(v_mse.shape)\n",
    "\n",
    "thresh = 20\n",
    "idx_close = (v_mse < thresh).nonzero()\n",
    "# display(idx_close.shape)\n",
    "display(idx_close)\n",
    "show_some_images(valid_dataset[idx_close])\n",
    "\n",
    "h_Ns, h_bins, _ = plt.hist(v_mse)\n",
    "# h_Ns, h_bins, _ = plt.hist(v_mse[v_mse < thresh])\n",
    "plt.show()\n",
    "display(h_Ns, h_bins)\n",
    "\n",
    "thresh = h_bins[1]\n",
    "show_some_images(valid_dataset[v_mse < thresh])\n",
    "\n",
    "# (v_mse < 1)\n",
    "# type(v_mse)\n"
   ]
  },
  {
   "cell_type": "code",
   "execution_count": 356,
   "metadata": {
    "collapsed": false,
    "deletable": true,
    "editable": true
   },
   "outputs": [
    {
     "data": {
      "text/plain": [
       "(10, 28, 28)"
      ]
     },
     "metadata": {},
     "output_type": "display_data"
    },
    {
     "data": {
      "text/plain": [
       "(28, 28)"
      ]
     },
     "metadata": {},
     "output_type": "display_data"
    },
    {
     "data": {
      "text/plain": [
       "array([0, 1, 2, 3, 1, 5, 6, 7, 5, 9, 3, 5, 4, 4, 4, 3])"
      ]
     },
     "metadata": {},
     "output_type": "display_data"
    },
    {
     "data": {
      "text/plain": [
       "(16, 28, 28)"
      ]
     },
     "metadata": {},
     "output_type": "display_data"
    },
    {
     "data": {
      "text/plain": [
       "'comparing...'"
      ]
     },
     "metadata": {},
     "output_type": "display_data"
    },
    {
     "data": {
      "text/plain": [
       "array([ 4,  8, 10, 11, 13, 14, 15])"
      ]
     },
     "metadata": {},
     "output_type": "display_data"
    },
    {
     "data": {
      "text/plain": [
       "array([0, 1, 2, 3, 1, 5, 6, 7, 5, 9, 3, 5, 4, 4, 4, 3])"
      ]
     },
     "metadata": {},
     "output_type": "display_data"
    },
    {
     "data": {
      "text/plain": [
       "array([ 0,  1,  2,  3, -1,  5,  6,  7, -1,  9, -1, -1,  4, -1, -1, -1])"
      ]
     },
     "metadata": {},
     "output_type": "display_data"
    },
    {
     "data": {
      "text/plain": [
       "array([ True,  True,  True,  True, False,  True,  True,  True, False,\n",
       "        True, False, False,  True, False, False, False], dtype=bool)"
      ]
     },
     "metadata": {},
     "output_type": "display_data"
    },
    {
     "data": {
      "text/plain": [
       "array([0, 1, 2, 3, 5, 6, 7, 9, 4])"
      ]
     },
     "metadata": {},
     "output_type": "display_data"
    }
   ],
   "source": [
    "img_a = valid_dataset[0]\n",
    "s_set = valid_dataset\n",
    "s_set = valid_dataset[0:10,:,:]\n",
    "display(s_set.shape)\n",
    "display(img_a.shape)\n",
    "\n",
    "def find_similar_to_img(s_set, img_a, threshold = 1):\n",
    "    v_mse = mse(s_set, img_a)\n",
    "#     return np.transpose((v_mse < threshold).nonzero())\n",
    "    return (v_mse <= threshold).nonzero()\n",
    "#     return v_mse[v_mse < threshold]\n",
    "\n",
    "\n",
    "test_idxes = np.array([0,1,2,3,1,5,6,7,5,9,3,5,4,4,4,3])\n",
    "test_dups = valid_dataset[test_idxes]\n",
    "display(test_idxes)\n",
    "# display(test_dups.shape)\n",
    "s_set = test_dups\n",
    "\n",
    "############################################\n",
    "# for duplicates inside same set\n",
    "############################################\n",
    "def find_internal_duplicates(s_set):\n",
    "    matches = np.ndarray((0,1), dtype=np.int)\n",
    "    display(s_set.shape)\n",
    "    display('comparing...')\n",
    "    for i in xrange(s_set.shape[0]):\n",
    "        i_mse = find_similar_to_img(s_set[i+1:], s_set[i])\n",
    "        i_matches = np.transpose(i_mse) + (i + 1)\n",
    "        if len(i_matches):\n",
    "            # don't add self, so we keep 1 instance of the dup\n",
    "            matches = np.concatenate((matches, i_matches))\n",
    "#             matches = np.concatenate((matches, [[i]], i_matches))\n",
    "\n",
    "#             display(len(i_matches), i_matches)\n",
    "    #     matches = np.vstack(matches, i_matches)\n",
    "#     display('done.')\n",
    "#     display(matches)\n",
    "    return np.unique(matches)\n",
    "\n",
    "# i_similar = find_similar_to_img(s_set, img_a)\n",
    "# display(i_similar.shape)\n",
    "# i_similar\n",
    "# np.transpose(np.transpose(i_similar))\n",
    "\n",
    "match_idxes = find_internal_duplicates(s_set)\n",
    "display(match_idxes)\n",
    "# display(test_idxes)\n",
    "v = np.array(test_idxes)  # need to convert list to np array\n",
    "display(v)\n",
    "v[match_idxes.astype(int)] = -1  # (not needed, now that I fixed the matches dtype above)\n",
    "display(v)\n",
    "\n",
    "good_idxes = np.ones((s_set.shape[0],), dtype=np.bool)\n",
    "# display(type(match_idxes))\n",
    "good_idxes[match_idxes] = False\n",
    "display(good_idxes)\n",
    "display(test_idxes[good_idxes])\n",
    "# np.ones?"
   ]
  },
  {
   "cell_type": "code",
   "execution_count": 365,
   "metadata": {
    "collapsed": false,
    "deletable": true,
    "editable": true
   },
   "outputs": [
    {
     "data": {
      "text/plain": [
       "(95, 28, 28)"
      ]
     },
     "metadata": {},
     "output_type": "display_data"
    },
    {
     "data": {
      "text/plain": [
       "(16, 28, 28)"
      ]
     },
     "metadata": {},
     "output_type": "display_data"
    },
    {
     "data": {
      "text/plain": [
       "'comparing...'"
      ]
     },
     "metadata": {},
     "output_type": "display_data"
    },
    {
     "data": {
      "text/plain": [
       "'  comparing at 0 ...'"
      ]
     },
     "metadata": {},
     "output_type": "display_data"
    },
    {
     "data": {
      "text/plain": [
       "'done.'"
      ]
     },
     "metadata": {},
     "output_type": "display_data"
    },
    {
     "data": {
      "text/plain": [
       "array([0, 1, 2, 3, 1, 5, 6, 7, 5, 9, 3, 5, 4, 4, 4, 3])"
      ]
     },
     "metadata": {},
     "output_type": "display_data"
    },
    {
     "data": {
      "text/plain": [
       "array([ 5,  6,  7,  8,  9, 11])"
      ]
     },
     "metadata": {},
     "output_type": "display_data"
    },
    {
     "data": {
      "text/plain": [
       "(1000, 28, 28)"
      ]
     },
     "metadata": {},
     "output_type": "display_data"
    },
    {
     "data": {
      "text/plain": [
       "(10000, 28, 28)"
      ]
     },
     "metadata": {},
     "output_type": "display_data"
    },
    {
     "data": {
      "text/plain": [
       "'comparing...'"
      ]
     },
     "metadata": {},
     "output_type": "display_data"
    },
    {
     "data": {
      "text/plain": [
       "'  comparing at 0 ...'"
      ]
     },
     "metadata": {},
     "output_type": "display_data"
    },
    {
     "data": {
      "text/plain": [
       "'  comparing at 1000 ...'"
      ]
     },
     "metadata": {},
     "output_type": "display_data"
    },
    {
     "data": {
      "text/plain": [
       "'  comparing at 2000 ...'"
      ]
     },
     "metadata": {},
     "output_type": "display_data"
    },
    {
     "data": {
      "text/plain": [
       "'  comparing at 3000 ...'"
      ]
     },
     "metadata": {},
     "output_type": "display_data"
    },
    {
     "data": {
      "text/plain": [
       "'  comparing at 4000 ...'"
      ]
     },
     "metadata": {},
     "output_type": "display_data"
    },
    {
     "data": {
      "text/plain": [
       "'  comparing at 5000 ...'"
      ]
     },
     "metadata": {},
     "output_type": "display_data"
    },
    {
     "data": {
      "text/plain": [
       "'  comparing at 6000 ...'"
      ]
     },
     "metadata": {},
     "output_type": "display_data"
    },
    {
     "data": {
      "text/plain": [
       "'  comparing at 7000 ...'"
      ]
     },
     "metadata": {},
     "output_type": "display_data"
    },
    {
     "data": {
      "text/plain": [
       "'  comparing at 8000 ...'"
      ]
     },
     "metadata": {},
     "output_type": "display_data"
    },
    {
     "data": {
      "text/plain": [
       "'  comparing at 9000 ...'"
      ]
     },
     "metadata": {},
     "output_type": "display_data"
    },
    {
     "data": {
      "text/plain": [
       "'done.'"
      ]
     },
     "metadata": {},
     "output_type": "display_data"
    },
    {
     "data": {
      "text/plain": [
       "array([ 157,  209,  219,  234,  431,  440,  459,  517,  540,  550,  555,\n",
       "        604,  618,  800,  906,  928, 1000, 1003, 1058, 1137, 1158, 1255,\n",
       "       1537, 1654, 1719, 1772, 2055, 2094, 2228, 2316, 2375, 2389, 2428,\n",
       "       2921, 3020, 3073, 3137, 3164, 3187, 3193, 3224, 3284, 3477, 3521,\n",
       "       3566, 3712, 3758, 4104, 4194, 4259, 4479, 4509, 4568, 4574, 4799,\n",
       "       4907, 4989, 4990, 5036, 5069, 5107, 5182, 5433, 5481, 5523, 5585,\n",
       "       5617, 5632, 5659, 5937, 5982, 5987, 6001, 6122, 6154, 6179, 6197,\n",
       "       6305, 6371, 6664, 7078, 7144, 7145, 7168, 7247, 7322, 7526, 7550,\n",
       "       7551, 7745, 7785, 7867, 7905, 7997, 8019, 8094, 8152, 8176, 8193,\n",
       "       8223, 8343, 8366, 8498, 8639, 8722, 8904, 8922, 8937, 8945, 9028,\n",
       "       9038, 9179, 9213, 9316, 9329, 9337, 9347, 9479, 9550, 9582, 9869,\n",
       "       9945])"
      ]
     },
     "metadata": {},
     "output_type": "display_data"
    }
   ],
   "source": [
    "# now lets find duplicates between two sets\n",
    "############################################\n",
    "# for duplicates between two sets\n",
    "#   - lets say returned indicies are in bigger set? (i guess should be both)\n",
    "#  overlap is probably easier\n",
    "#\n",
    "#  UPDATE: let's do indicies are in smaller set\n",
    "#\n",
    "############################################\n",
    "# (let's say m_set is smaller)\n",
    "\n",
    "def find_overlap_duplicates(s_set, m_set):\n",
    "    ''' For removing overlap from m_set found in s_set '''\n",
    "    matches = np.ndarray((0,1), dtype=np.int)\n",
    "    display(s_set.shape)\n",
    "    display(m_set.shape)\n",
    "    display('comparing...')\n",
    "    for i in xrange(m_set.shape[0]):\n",
    "        if i % 1000 == 0:\n",
    "            display(\"  comparing at %d ...\" % (i,))\n",
    "        i_mse = find_similar_to_img(s_set, m_set[i])\n",
    "        i_matches = np.transpose(i_mse)\n",
    "#         i_matches = np.transpose(i_mse) + (i + 1)\n",
    "        if len(i_matches):\n",
    "            # ONLY add self, b/c we're searching for each in small array, and returnin their indicies\n",
    "            matches = np.concatenate((matches, [[i]]))\n",
    "            # don't add self, so we keep 1 instance of the dup\n",
    "#             matches = np.concatenate((matches, i_matches))\n",
    "#             matches = np.concatenate((matches, [[i]], i_matches))\n",
    "\n",
    "#             display(len(i_matches), i_matches)\n",
    "    display('done.')\n",
    "#     display(matches)\n",
    "    return np.unique(matches)\n",
    "\n",
    "a_set = valid_dataset[5:100]\n",
    "b_set = test_dups\n",
    "\n",
    "i_overlaps = find_overlap_duplicates(a_set, test_dups)\n",
    "display(test_idxes)\n",
    "display(i_overlaps)\n",
    "\n",
    "# full train_dataset was baaaaddd -- took forever\n",
    "j_overlaps = find_overlap_duplicates(train_dataset[0:1000], valid_dataset)\n",
    "display(j_overlaps)"
   ]
  },
  {
   "cell_type": "code",
   "execution_count": 372,
   "metadata": {
    "collapsed": true,
    "deletable": true,
    "editable": true
   },
   "outputs": [],
   "source": [
    "# valid_dataset idxs that appear in train_dataset:\n",
    "v_dups_0_1000 = np.array(\n",
    "     [  157,  209,  219,  234,  431,  440,  459,  517,  540,  550,  555,\n",
    "        604,  618,  800,  906,  928, 1000, 1003, 1058, 1137, 1158, 1255,\n",
    "       1537, 1654, 1719, 1772, 2055, 2094, 2228, 2316, 2375, 2389, 2428,\n",
    "       2921, 3020, 3073, 3137, 3164, 3187, 3193, 3224, 3284, 3477, 3521,\n",
    "       3566, 3712, 3758, 4104, 4194, 4259, 4479, 4509, 4568, 4574, 4799,\n",
    "       4907, 4989, 4990, 5036, 5069, 5107, 5182, 5433, 5481, 5523, 5585,\n",
    "       5617, 5632, 5659, 5937, 5982, 5987, 6001, 6122, 6154, 6179, 6197,\n",
    "       6305, 6371, 6664, 7078, 7144, 7145, 7168, 7247, 7322, 7526, 7550,\n",
    "       7551, 7745, 7785, 7867, 7905, 7997, 8019, 8094, 8152, 8176, 8193,\n",
    "       8223, 8343, 8366, 8498, 8639, 8722, 8904, 8922, 8937, 8945, 9028,\n",
    "       9038, 9179, 9213, 9316, 9329, 9337, 9347, 9479, 9550, 9582, 9869,\n",
    "       9945])"
   ]
  },
  {
   "cell_type": "markdown",
   "metadata": {
    "deletable": true,
    "editable": true
   },
   "source": [
    "---\n",
    "Let's try the hashing compare approach (still doesn't do the \"similar\" thing)\n",
    "--\n"
   ]
  },
  {
   "cell_type": "code",
   "execution_count": 560,
   "metadata": {
    "collapsed": false,
    "deletable": true,
    "editable": true
   },
   "outputs": [
    {
     "data": {
      "text/plain": [
       "(210020, 28, 28)"
      ]
     },
     "metadata": {},
     "output_type": "display_data"
    },
    {
     "data": {
      "text/plain": [
       "(20,)"
      ]
     },
     "metadata": {},
     "output_type": "display_data"
    },
    {
     "data": {
      "text/plain": [
       "numpy.ndarray"
      ]
     },
     "metadata": {},
     "output_type": "display_data"
    },
    {
     "data": {
      "text/plain": [
       "(210020,)"
      ]
     },
     "metadata": {},
     "output_type": "display_data"
    },
    {
     "data": {
      "text/plain": [
       "'uniqifying...'"
      ]
     },
     "metadata": {},
     "output_type": "display_data"
    },
    {
     "data": {
      "text/plain": [
       "(196284,)"
      ]
     },
     "metadata": {},
     "output_type": "display_data"
    },
    {
     "data": {
      "text/plain": [
       "'\\x00\\x00\\xe4\\xda\\x99\\xbc\\xef\\xc0\\x1c\\x15-\\xc3\\x8e\\xfe\\xe8~'"
      ]
     },
     "metadata": {},
     "output_type": "display_data"
    }
   ],
   "source": [
    "from hashlib import md5\n",
    "# hash()\n",
    "\n",
    "# some_stuff = valid_dataset[0:200]\n",
    "# some_stuff = valid_dataset[0:2000]\n",
    "# some_stuff = valid_dataset\n",
    "some_stuff = np.concatenate((train_dataset, valid_dataset))\n",
    "\n",
    "\n",
    "dup_idxes = np.random.choice(some_stuff.shape[0], size=20)\n",
    "some_stuff = np.concatenate((some_stuff, some_stuff[dup_idxes]))\n",
    "np.random.shuffle(some_stuff)\n",
    "\n",
    "display(some_stuff.shape)\n",
    "display(dup_idxes.shape)\n",
    "\n",
    "v_157 = valid_dataset[157]\n",
    "hv = md5(v_157)\n",
    "display(type(some_stuff))\n",
    "# a_hashed = np.apply_along_axis(md5, axis=0, arr=some_stuff)\n",
    "# a_hashed = np.apply_over_axes(md5, some_stuff, axes=0)\n",
    "\n",
    "h_some = np.array([md5(e_i).digest() for idx, e_i in enumerate(some_stuff)])  # seems good\n",
    "# h_some = np.array([md5(bytes(e_i)).hexdigest() for idx, e_i in enumerate(some_stuff)])\n",
    "# h_some = np.array([hash(e_i) for idx, e_i in enumerate(some_stuff)])  # BAD doesn't work\n",
    "# h_some = np.array([hash(bytes(e_i)) for idx, e_i in enumerate(some_stuff)])\n",
    "\n",
    "\n",
    "display(h_some.shape)\n",
    "display('uniqifying...')\n",
    "\n",
    "h_all = np.unique(h_some)\n",
    "display(h_all.shape)\n",
    "display(h_all[0])\n"
   ]
  },
  {
   "cell_type": "code",
   "execution_count": 561,
   "metadata": {
    "collapsed": true,
    "deletable": true,
    "editable": true
   },
   "outputs": [],
   "source": [
    "def uniqify(one_set):\n",
    "    display(one_set.shape) # original shape\n",
    "    h_some = np.array([md5(e_i).digest() for idx, e_i in enumerate(one_set)])\n",
    "    h_uniq = np.unique(h_some)\n",
    "    display(h_uniq.shape)\n",
    "    return h_uniq\n",
    "\n"
   ]
  },
  {
   "cell_type": "code",
   "execution_count": 564,
   "metadata": {
    "collapsed": false,
    "deletable": true,
    "editable": true
   },
   "outputs": [
    {
     "data": {
      "text/plain": [
       "(10000, 28, 28)"
      ]
     },
     "metadata": {},
     "output_type": "display_data"
    },
    {
     "data": {
      "text/plain": [
       "(9862,)"
      ]
     },
     "metadata": {},
     "output_type": "display_data"
    },
    {
     "data": {
      "text/plain": [
       "(200000, 28, 28)"
      ]
     },
     "metadata": {},
     "output_type": "display_data"
    },
    {
     "data": {
      "text/plain": [
       "(187386,)"
      ]
     },
     "metadata": {},
     "output_type": "display_data"
    },
    {
     "data": {
      "text/plain": [
       "array(['\\x00\\x00\\xe4\\xda\\x99\\xbc\\xef\\xc0\\x1c\\x15-\\xc3\\x8e\\xfe\\xe8~',\n",
       "       '\\x00\\x01D\\xa6\\n+\\xa3\\x07{,\\x91(\\xeb0\\x15/',\n",
       "       '\\x00\\x01\\xb8_u\\xa4\\xd8\\x9d\\xa2\\r\\xa8\\xd0\\xef\\x1c\\xb2I', ...,\n",
       "       '\\xff\\xfe|X#XI\\xfc\\xd4\\xcf\\xcb\\xa1$B>/',\n",
       "       '\\xff\\xfe\\xcd\\xb4\\xfb\\xac\\xdc~\\xc7\\x9by&\\xff\\xc5\\x1e\\x0e',\n",
       "       '\\xff\\xff\\xd6\\xe2\\x19Dy\\x9dx@\\xbb4v\\x99u+'], \n",
       "      dtype='|S16')"
      ]
     },
     "execution_count": 564,
     "metadata": {},
     "output_type": "execute_result"
    }
   ],
   "source": [
    "uniqify(valid_dataset)\n",
    "uniqify(train_dataset)"
   ]
  },
  {
   "cell_type": "markdown",
   "metadata": {},
   "source": [
    "---\n",
    "***Actual Elimiate (exact) Duplicates via Hash***\n",
    "--------"
   ]
  },
  {
   "cell_type": "code",
   "execution_count": 586,
   "metadata": {
    "collapsed": false
   },
   "outputs": [
    {
     "data": {
      "text/plain": [
       "(200000, 28, 28)"
      ]
     },
     "metadata": {},
     "output_type": "display_data"
    },
    {
     "data": {
      "text/plain": [
       "(10000, 28, 28)"
      ]
     },
     "metadata": {},
     "output_type": "display_data"
    },
    {
     "data": {
      "text/plain": [
       "(10000, 28, 28)"
      ]
     },
     "metadata": {},
     "output_type": "display_data"
    },
    {
     "data": {
      "text/plain": [
       "(187386, 28, 28)"
      ]
     },
     "metadata": {},
     "output_type": "display_data"
    },
    {
     "data": {
      "text/plain": [
       "(8898, 28, 28)"
      ]
     },
     "metadata": {},
     "output_type": "display_data"
    },
    {
     "data": {
      "text/plain": [
       "(8648, 28, 28)"
      ]
     },
     "metadata": {},
     "output_type": "display_data"
    }
   ],
   "source": [
    "# Eliminate duplicate images in+across train, valid, and test datasets\n",
    "one_set = np.concatenate((train_dataset, valid_dataset, test_dataset))\n",
    "h_some = np.array([md5(e_i).digest() for idx, e_i in enumerate(one_set)])\n",
    "h_uniq, idxes = np.unique(h_some, return_index=True)\n",
    "\n",
    "len_train_valid = (train_dataset.shape[0] + valid_dataset.shape[0])\n",
    "uidx_train = idxes[idxes < train_dataset.shape[0]]\n",
    "uidx_valid = idxes[(idxes >= train_dataset.shape[0]) & (idxes < len_train_valid)] - train_dataset.shape[0]\n",
    "uidx_test = idxes[idxes >= len_train_valid] - len_train_valid\n",
    "train_dataset_unq = train_dataset[uidx_train]\n",
    "train_labels_unq = train_labels[uidx_train]\n",
    "valid_dataset_unq = valid_dataset[uidx_valid]\n",
    "valid_labels_unq = valid_labels[uidx_valid]\n",
    "test_dataset_unq  = test_dataset[uidx_test]\n",
    "test_labels_unq  = test_labels[uidx_test]\n",
    "\n",
    "# original sizes\n",
    "display(train_dataset.shape)\n",
    "display(valid_dataset.shape)\n",
    "display(test_dataset.shape)\n",
    "# new sizes\n",
    "display(train_dataset_unq.shape)\n",
    "display(valid_dataset_unq.shape)\n",
    "display(test_dataset_unq.shape)"
   ]
  },
  {
   "cell_type": "code",
   "execution_count": 587,
   "metadata": {
    "collapsed": false
   },
   "outputs": [],
   "source": [
    "# Save the Unique-ified Datasets\n",
    "pickle_file = os.path.join(data_root, 'notMNIST_uniq.pickle')\n",
    "\n",
    "try:\n",
    "  f = open(pickle_file, 'wb')\n",
    "  save = {\n",
    "    'train_dataset': train_dataset,\n",
    "    'train_labels': train_labels,\n",
    "    'valid_dataset': valid_dataset,\n",
    "    'valid_labels': valid_labels,\n",
    "    'test_dataset': test_dataset,\n",
    "    'test_labels': test_labels,\n",
    "    'train_dataset_unq': train_dataset_unq,\n",
    "    'train_labels_unq': train_labels_unq,\n",
    "    'valid_dataset_unq': valid_dataset_unq,\n",
    "    'valid_labels_unq': valid_labels_unq,\n",
    "    'test_dataset_unq': test_dataset_unq,\n",
    "    'test_labels_unq': test_labels_unq,\n",
    "    }\n",
    "  pickle.dump(save, f, pickle.HIGHEST_PROTOCOL)\n",
    "  f.close()\n",
    "except Exception as e:\n",
    "  print('Unable to save data to', pickle_file, ':', e)\n",
    "  raise"
   ]
  },
  {
   "cell_type": "code",
   "execution_count": 589,
   "metadata": {
    "collapsed": false
   },
   "outputs": [
    {
     "name": "stdout",
     "output_type": "stream",
     "text": [
      "Compressed pickle size: 1334287244\n"
     ]
    }
   ],
   "source": [
    "statinfo = os.stat(pickle_file)\n",
    "print('Compressed pickle size:', statinfo.st_size)"
   ]
  },
  {
   "cell_type": "code",
   "execution_count": 590,
   "metadata": {
    "collapsed": true
   },
   "outputs": [],
   "source": [
    "# Save the Unique only\n",
    "pickle_file = os.path.join(data_root, 'notMNIST_uniq_only.pickle')\n",
    "\n",
    "try:\n",
    "  f = open(pickle_file, 'wb')\n",
    "  save = {\n",
    "    'train_dataset_unq': train_dataset_unq,\n",
    "    'train_labels_unq': train_labels_unq,\n",
    "    'valid_dataset_unq': valid_dataset_unq,\n",
    "    'valid_labels_unq': valid_labels_unq,\n",
    "    'test_dataset_unq': test_dataset_unq,\n",
    "    'test_labels_unq': test_labels_unq,\n",
    "    }\n",
    "  pickle.dump(save, f, pickle.HIGHEST_PROTOCOL)\n",
    "  f.close()\n",
    "except Exception as e:\n",
    "  print('Unable to save data to', pickle_file, ':', e)\n",
    "  raise"
   ]
  },
  {
   "cell_type": "code",
   "execution_count": 591,
   "metadata": {
    "collapsed": false
   },
   "outputs": [
    {
     "name": "stdout",
     "output_type": "stream",
     "text": [
      "Compressed pickle size: 643486945\n"
     ]
    }
   ],
   "source": [
    "statinfo = os.stat(pickle_file)\n",
    "print('Compressed pickle size:', statinfo.st_size)"
   ]
  },
  {
   "cell_type": "code",
   "execution_count": null,
   "metadata": {
    "collapsed": true,
    "deletable": true,
    "editable": true
   },
   "outputs": [],
   "source": [
    "\n",
    "# h_some\n",
    "hv.hexdigest()\n",
    "# hashTable = dict()\n",
    "\n",
    "# hashed_valid = "
   ]
  },
  {
   "cell_type": "markdown",
   "metadata": {
    "deletable": true,
    "editable": true
   },
   "source": [
    "---\n",
    "  This is not hashing...\n",
    "----\n"
   ]
  },
  {
   "cell_type": "code",
   "execution_count": 476,
   "metadata": {
    "collapsed": false,
    "deletable": true,
    "editable": true,
    "scrolled": true
   },
   "outputs": [
    {
     "data": {
      "text/plain": [
       "array([   109,    137,    192, ..., 199816, 199911, 199997])"
      ]
     },
     "metadata": {},
     "output_type": "display_data"
    },
    {
     "data": {
      "text/plain": [
       "(2354,)"
      ]
     },
     "metadata": {},
     "output_type": "display_data"
    },
    {
     "data": {
      "text/plain": [
       "392.0"
      ]
     },
     "metadata": {},
     "output_type": "display_data"
    },
    {
     "data": {
      "text/plain": [
       "104"
      ]
     },
     "metadata": {},
     "output_type": "display_data"
    },
    {
     "data": {
      "text/plain": [
       "2233"
      ]
     },
     "metadata": {},
     "output_type": "display_data"
    },
    {
     "data": {
      "text/plain": [
       "array([  3832.,   2644.,   4266.,   6903.,  10463.,  16954.,  27271.,\n",
       "        41513.,  66585.,  19569.])"
      ]
     },
     "metadata": {},
     "output_type": "display_data"
    },
    {
     "data": {
      "text/plain": [
       "array([ 0.        ,  0.02422928,  0.04845855,  0.07268783,  0.0969171 ,\n",
       "        0.12114638,  0.14537566,  0.16960493,  0.19383421,  0.21806349,\n",
       "        0.24229276])"
      ]
     },
     "metadata": {},
     "output_type": "display_data"
    },
    {
     "data": {
      "image/png": "[encoded data removed]",
      "text/plain": [
       "<matplotlib.figure.Figure at 0x7f2005513990>"
      ]
     },
     "metadata": {},
     "output_type": "display_data"
    },
    {
     "data": {
      "text/plain": [
       "array([ 2259.,    27.,    29.,    26.,    17.,    17.,    14.,    13.,\n",
       "          24.,    20.,    23.,    17.,    20.,    18.,    11.,    29.,\n",
       "          24.,    19.,    17.,    10.,    27.,    19.,     8.,    11.,\n",
       "          15.,    14.,    12.,    12.,    17.,    14.,    11.,    16.,\n",
       "           5.,    11.,     8.,    11.,    11.,     5.,    10.,    24.,\n",
       "          16.,    15.,    12.,    11.,    18.,     6.,    13.,     7.,\n",
       "          11.,     7.,    21.,    12.,    11.,    25.,     9.,    13.,\n",
       "          10.,    17.,    14.,    18.,    16.,    15.,    16.,    16.,\n",
       "          15.,    12.,    16.,    14.,    10.,    14.,    14.,    11.,\n",
       "          21.,    10.,    12.,    17.,    15.,    15.,    10.,    17.,\n",
       "          18.,    18.,    26.,    12.,    16.,    18.,    21.,    11.,\n",
       "          15.,    20.,    22.,    19.,    22.,    20.,    22.,    27.,\n",
       "          17.,    23.,    16.,    22.])"
      ]
     },
     "metadata": {},
     "output_type": "display_data"
    },
    {
     "data": {
      "text/plain": [
       "array([ 0.        ,  0.00024227,  0.00048454,  0.00072682,  0.00096909,\n",
       "        0.00121136,  0.00145363,  0.00169591,  0.00193818,  0.00218045,\n",
       "        0.00242272,  0.00266499,  0.00290727,  0.00314954,  0.00339181,\n",
       "        0.00363408,  0.00387635,  0.00411863,  0.0043609 ,  0.00460317,\n",
       "        0.00484544,  0.00508772,  0.00532999,  0.00557226,  0.00581453,\n",
       "        0.0060568 ,  0.00629908,  0.00654135,  0.00678362,  0.00702589,\n",
       "        0.00726816,  0.00751044,  0.00775271,  0.00799498,  0.00823725,\n",
       "        0.00847953,  0.0087218 ,  0.00896407,  0.00920634,  0.00944861,\n",
       "        0.00969089,  0.00993316,  0.01017543,  0.0104177 ,  0.01065997,\n",
       "        0.01090225,  0.01114452,  0.01138679,  0.01162906,  0.01187134,\n",
       "        0.01211361,  0.01235588,  0.01259815,  0.01284042,  0.0130827 ,\n",
       "        0.01332497,  0.01356724,  0.01380951,  0.01405178,  0.01429406,\n",
       "        0.01453633,  0.0147786 ,  0.01502087,  0.01526315,  0.01550542,\n",
       "        0.01574769,  0.01598996,  0.01623223,  0.01647451,  0.01671678,\n",
       "        0.01695905,  0.01720132,  0.01744359,  0.01768587,  0.01792814,\n",
       "        0.01817041,  0.01841268,  0.01865496,  0.01889723,  0.0191395 ,\n",
       "        0.01938177,  0.01962404,  0.01986632,  0.02010859,  0.02035086,\n",
       "        0.02059313,  0.0208354 ,  0.02107768,  0.02131995,  0.02156222,\n",
       "        0.02180449,  0.02204677,  0.02228904,  0.02253131,  0.02277358,\n",
       "        0.02301585,  0.02325813,  0.0235004 ,  0.02374267,  0.02398494,\n",
       "        0.02422721])"
      ]
     },
     "metadata": {},
     "output_type": "display_data"
    },
    {
     "data": {
      "image/png": "[encoded data removed]",
      "text/plain": [
       "<matplotlib.figure.Figure at 0x7f1ffd7beb50>"
      ]
     },
     "metadata": {},
     "output_type": "display_data"
    },
    {
     "data": {
      "text/plain": [
       "'bins3:'"
      ]
     },
     "metadata": {},
     "output_type": "display_data"
    },
    {
     "data": {
      "text/plain": [
       "array([ 2163.,    21.,     6.,     4.,     8.,    22.,     7.,     3.,\n",
       "           8.,    17.])"
      ]
     },
     "metadata": {},
     "output_type": "display_data"
    },
    {
     "data": {
      "text/plain": [
       "array([  0.00000000e+00,   2.41831774e-05,   4.83663549e-05,\n",
       "         7.25495323e-05,   9.67327098e-05,   1.20915887e-04,\n",
       "         1.45099065e-04,   1.69282242e-04,   1.93465420e-04,\n",
       "         2.17648597e-04,   2.41831774e-04])"
      ]
     },
     "metadata": {},
     "output_type": "display_data"
    },
    {
     "data": {
      "image/png": "[encoded data removed]",
      "text/plain": [
       "<matplotlib.figure.Figure at 0x7f2005a57490>"
      ]
     },
     "metadata": {},
     "output_type": "display_data"
    },
    {
     "data": {
      "text/plain": [
       "array([  2.11900000e+03,   0.00000000e+00,   3.00000000e+00,\n",
       "         0.00000000e+00,   1.00000000e+00,   0.00000000e+00,\n",
       "         0.00000000e+00,   0.00000000e+00,   1.00000000e+00,\n",
       "         0.00000000e+00,   0.00000000e+00,   1.00000000e+00,\n",
       "         0.00000000e+00,   1.00000000e+00,   1.00000000e+00,\n",
       "         0.00000000e+00,   0.00000000e+00,   0.00000000e+00,\n",
       "         0.00000000e+00,   0.00000000e+00,   0.00000000e+00,\n",
       "         0.00000000e+00,   0.00000000e+00,   0.00000000e+00,\n",
       "         0.00000000e+00,   0.00000000e+00,   0.00000000e+00,\n",
       "         0.00000000e+00,   1.00000000e+00,   1.00000000e+00,\n",
       "         0.00000000e+00,   0.00000000e+00,   1.00000000e+00,\n",
       "         0.00000000e+00,   0.00000000e+00,   1.00000000e+00,\n",
       "         0.00000000e+00,   0.00000000e+00,   1.00000000e+00,\n",
       "         0.00000000e+00,   0.00000000e+00,   0.00000000e+00,\n",
       "         0.00000000e+00,   0.00000000e+00,   1.00000000e+00,\n",
       "         0.00000000e+00,   0.00000000e+00,   1.00000000e+00,\n",
       "         1.00000000e+00,   0.00000000e+00,   1.00000000e+00,\n",
       "         1.00000000e+00,   3.00000000e+00,   0.00000000e+00,\n",
       "         0.00000000e+00,   0.00000000e+00,   3.00000000e+00,\n",
       "         0.00000000e+00,   0.00000000e+00,   0.00000000e+00,\n",
       "         0.00000000e+00,   0.00000000e+00,   0.00000000e+00,\n",
       "         0.00000000e+00,   0.00000000e+00,   0.00000000e+00,\n",
       "         0.00000000e+00,   0.00000000e+00,   0.00000000e+00,\n",
       "         0.00000000e+00,   0.00000000e+00,   0.00000000e+00,\n",
       "         0.00000000e+00,   0.00000000e+00,   0.00000000e+00,\n",
       "         0.00000000e+00,   0.00000000e+00,   0.00000000e+00,\n",
       "         0.00000000e+00,   0.00000000e+00,   1.70000000e+01,\n",
       "         0.00000000e+00,   0.00000000e+00,   0.00000000e+00,\n",
       "         0.00000000e+00,   0.00000000e+00,   0.00000000e+00,\n",
       "         0.00000000e+00,   1.00000000e+00,   0.00000000e+00,\n",
       "         0.00000000e+00,   0.00000000e+00,   0.00000000e+00,\n",
       "         0.00000000e+00,   1.00000000e+00,   0.00000000e+00,\n",
       "         0.00000000e+00,   0.00000000e+00,   0.00000000e+00,\n",
       "         1.00000000e+00])"
      ]
     },
     "metadata": {},
     "output_type": "display_data"
    },
    {
     "data": {
      "text/plain": [
       "array([  0.00000000e+00,   2.35976713e-07,   4.71953426e-07,\n",
       "         7.07930139e-07,   9.43906853e-07,   1.17988357e-06,\n",
       "         1.41586028e-06,   1.65183699e-06,   1.88781371e-06,\n",
       "         2.12379042e-06,   2.35976713e-06,   2.59574384e-06,\n",
       "         2.83172056e-06,   3.06769727e-06,   3.30367398e-06,\n",
       "         3.53965070e-06,   3.77562741e-06,   4.01160412e-06,\n",
       "         4.24758084e-06,   4.48355755e-06,   4.71953426e-06,\n",
       "         4.95551098e-06,   5.19148769e-06,   5.42746440e-06,\n",
       "         5.66344112e-06,   5.89941783e-06,   6.13539454e-06,\n",
       "         6.37137126e-06,   6.60734797e-06,   6.84332468e-06,\n",
       "         7.07930139e-06,   7.31527811e-06,   7.55125482e-06,\n",
       "         7.78723153e-06,   8.02320825e-06,   8.25918496e-06,\n",
       "         8.49516167e-06,   8.73113839e-06,   8.96711510e-06,\n",
       "         9.20309181e-06,   9.43906853e-06,   9.67504524e-06,\n",
       "         9.91102195e-06,   1.01469987e-05,   1.03829754e-05,\n",
       "         1.06189521e-05,   1.08549288e-05,   1.10909055e-05,\n",
       "         1.13268822e-05,   1.15628589e-05,   1.17988357e-05,\n",
       "         1.20348124e-05,   1.22707891e-05,   1.25067658e-05,\n",
       "         1.27427425e-05,   1.29787192e-05,   1.32146959e-05,\n",
       "         1.34506726e-05,   1.36866494e-05,   1.39226261e-05,\n",
       "         1.41586028e-05,   1.43945795e-05,   1.46305562e-05,\n",
       "         1.48665329e-05,   1.51025096e-05,   1.53384864e-05,\n",
       "         1.55744631e-05,   1.58104398e-05,   1.60464165e-05,\n",
       "         1.62823932e-05,   1.65183699e-05,   1.67543466e-05,\n",
       "         1.69903233e-05,   1.72263001e-05,   1.74622768e-05,\n",
       "         1.76982535e-05,   1.79342302e-05,   1.81702069e-05,\n",
       "         1.84061836e-05,   1.86421603e-05,   1.88781371e-05,\n",
       "         1.91141138e-05,   1.93500905e-05,   1.95860672e-05,\n",
       "         1.98220439e-05,   2.00580206e-05,   2.02939973e-05,\n",
       "         2.05299740e-05,   2.07659508e-05,   2.10019275e-05,\n",
       "         2.12379042e-05,   2.14738809e-05,   2.17098576e-05,\n",
       "         2.19458343e-05,   2.21818110e-05,   2.24177877e-05,\n",
       "         2.26537645e-05,   2.28897412e-05,   2.31257179e-05,\n",
       "         2.33616946e-05,   2.35976713e-05])"
      ]
     },
     "metadata": {},
     "output_type": "display_data"
    },
    {
     "data": {
      "text/plain": [
       "array([  2.11900000e+03,   3.00000000e+00,   0.00000000e+00,\n",
       "         1.00000000e+00,   0.00000000e+00,   0.00000000e+00,\n",
       "         1.00000000e+00,   1.00000000e+00,   0.00000000e+00,\n",
       "         2.00000000e+00])"
      ]
     },
     "metadata": {},
     "output_type": "display_data"
    },
    {
     "data": {
      "text/plain": [
       "array([  0.00000000e+00,   3.31222327e-07,   6.62444654e-07,\n",
       "         9.93666981e-07,   1.32488931e-06,   1.65611164e-06,\n",
       "         1.98733396e-06,   2.31855629e-06,   2.64977862e-06,\n",
       "         2.98100094e-06,   3.31222327e-06])"
      ]
     },
     "metadata": {},
     "output_type": "display_data"
    },
    {
     "data": {
      "image/png": "[encoded data removed]",
      "text/plain": [
       "<matplotlib.figure.Figure at 0x7f1ffd6cfc90>"
      ]
     },
     "metadata": {},
     "output_type": "display_data"
    },
    {
     "data": {
      "text/plain": [
       "array([ 0.,  0.,  0., ...,  0.,  0.,  0.], dtype=float32)"
      ]
     },
     "metadata": {},
     "output_type": "display_data"
    }
   ],
   "source": [
    "some_stuff = valid_dataset[0:10]\n",
    "v_157 = valid_dataset[157]\n",
    "\n",
    "# from hashlib import md5\n",
    "# hash()\n",
    "i_t = find_similar_to_img(train_dataset, v_157)[0]\n",
    "# display(np.transpose(i_t))\n",
    "display(i_t)\n",
    "display(i_t.shape)\n",
    "v_157.shape\n",
    "sample_train = train_dataset[i_t[0:10]]\n",
    "# show_some_images(np.concatenate(([v_157],sample_train) ))\n",
    "\n",
    "v_157\n",
    "train_labels[i_t]\n",
    "# 0123456789\n",
    "# ABCDEFGHIJ\n",
    "# show_some_images(valid_dataset[v_dups_0_1000[0:40]])\n",
    "max_sum = 0.5*28*28\n",
    "display(max_sum)\n",
    "v_set_dups = valid_dataset[v_dups_0_1000]\n",
    "v_sums = np.sum(v_set_dups, axis=(1,2))\n",
    "all_valid_sums = np.sum(valid_dataset, axis=(1,2))\n",
    "display(np.count_nonzero(all_valid_sums[all_valid_sums > 390.0]))\n",
    "all_valid_sums = np.sum(train_dataset, axis=(1,2))\n",
    "display(np.count_nonzero(all_valid_sums[all_valid_sums > 390.0]))\n",
    "\n",
    "\n",
    "tvar = np.var(train_dataset, axis=(1,2))\n",
    "counts, bins, _ = plt.hist(tvar)\n",
    "display(counts, bins)\n",
    "plt.show()\n",
    "\n",
    "ttvar = tvar[tvar <= bins[1]]\n",
    "# counts2, bins2, _ = plt.hist(ttvar, bins=100)\n",
    "# counts2, bins2, _ = plt.hist(ttvar, bins=10, log=True)\n",
    "counts2, bins2, _ = plt.hist(ttvar, bins=100, log=True)\n",
    "display(counts2, bins2)\n",
    "plt.show()\n",
    "\n",
    "ttvar3 = tvar[tvar <= bins2[1]]\n",
    "display('bins3:')\n",
    "# counts3, bins3, _ = plt.hist(ttvar3, bins=100, log=True)\n",
    "counts3, bins3, _ = plt.hist(ttvar3, bins=10)\n",
    "display(counts3, bins3)\n",
    "plt.show()\n",
    "# ttvar4 = tvar[tvar <= bins3[1]]\n",
    "counts4, bins4, _ = plt.hist(tvar[tvar <= bins3[1]], bins=100)\n",
    "# counts4, bins4, _ = plt.hist(tvar[tvar <= bins3[1]], bins=100, log=True)\n",
    "display(counts4, bins4)\n",
    "counts5, bins5, _ = plt.hist(tvar[tvar <= bins4[20]])\n",
    "display(counts5, bins5)\n",
    "plt.show()\n",
    "display(tvar[tvar <= bins4[20]])\n",
    "\n"
   ]
  },
  {
   "cell_type": "code",
   "execution_count": 431,
   "metadata": {
    "collapsed": false,
    "deletable": true,
    "editable": true
   },
   "outputs": [
    {
     "data": {
      "text/plain": [
       "4"
      ]
     },
     "execution_count": 431,
     "metadata": {},
     "output_type": "execute_result"
    }
   ],
   "source": [
    "store_low_idx1 = np.array([111569, 180146, 133301, 149139,  60491, 138219,  48643, 175980,\n",
    "        80976, 136820, 146778, 121924,  42554,  95979, 134192, 134863,\n",
    "       126195,  16190])\n",
    "train_labels[175980]"
   ]
  },
  {
   "cell_type": "code",
   "execution_count": 599,
   "metadata": {
    "collapsed": false,
    "deletable": true,
    "editable": true,
    "scrolled": true
   },
   "outputs": [
    {
     "data": {
      "text/plain": [
       "'limit variance to: 2.41832e-05'"
      ]
     },
     "metadata": {},
     "output_type": "display_data"
    },
    {
     "data": {
      "text/plain": [
       "'     or maybe to?: 0.000242272'"
      ]
     },
     "metadata": {},
     "output_type": "display_data"
    },
    {
     "data": {
      "text/plain": [
       "array([ 89661,  15994,  71652, 141542,  43310, 115882, 195336,  56318,\n",
       "        85072,  89661, 165782,  84378,  87579, 179467, 144783,  41388,\n",
       "       162626, 167922, 138663, 163109, 179467, 172273,  19640, 146171])"
      ]
     },
     "metadata": {},
     "output_type": "display_data"
    },
    {
     "data": {
      "image/png": "[encoded data removed]",
      "text/plain": [
       "<matplotlib.figure.Figure at 0x7f1fffee9290>"
      ]
     },
     "metadata": {},
     "output_type": "display_data"
    },
    {
     "data": {
      "text/plain": [
       "array([2, 2, 2, ..., 8, 7, 8], dtype=int32)"
      ]
     },
     "execution_count": 599,
     "metadata": {},
     "output_type": "execute_result"
    }
   ],
   "source": [
    "# low_vars = np.random.choice(train_dataset[tvar < bins[1]], 9)\n",
    "display('limit variance to: %g' % (bins3[1],))\n",
    "display('     or maybe to?: %g' % (bins2[1],))\n",
    "# this bit is testing what the range a bit larger than the smallest variance includes...\n",
    "idx_low_vars_rand = np.random.choice(((tvar >= bins3[1]) & (tvar < bins2[1]) ).nonzero()[0], 24)\n",
    "# this one is ... smaller? (pretty much all white)\n",
    "# idx_low_vars_rand = np.random.choice((tvar < bins3[1]).nonzero()[0], 24)\n",
    "\n",
    "display(idx_low_vars_rand)\n",
    "show_some_images(train_dataset[idx_low_vars_rand])\n",
    "train_labels"
   ]
  },
  {
   "cell_type": "code",
   "execution_count": 615,
   "metadata": {
    "collapsed": true
   },
   "outputs": [],
   "source": [
    "# Choose variance threshold:\n",
    "# - This var is pretty much just all white images\n",
    "t_var_min = bins3[1]\n",
    "t_var_min = 2.41832e-05\n",
    "# - This var includes a bit more than just the pure nothing\n",
    "t_var_min = bins2[1]\n",
    "t_var_min = 0.000242272\n",
    "\n",
    "# t_var_min = 0.000242272\n",
    "\n",
    "# Remove \"not useful\"(?) images below some variance threshold\n",
    "def usefulify(one_set, var_threshold = t_var_min, return_index = False):\n",
    "    display(one_set.shape)\n",
    "    d_var_idxes = (np.var(one_set, axis=(1,2)) >= var_threshold)\n",
    "    better_set = one_set[d_var_idxes]\n",
    "    display(better_set.shape)\n",
    "    if return_index:\n",
    "        return better_set, d_var_idxes\n",
    "    return better_set\n"
   ]
  },
  {
   "cell_type": "code",
   "execution_count": 616,
   "metadata": {
    "collapsed": false,
    "scrolled": true
   },
   "outputs": [
    {
     "data": {
      "text/plain": [
       "(200000, 28, 28)"
      ]
     },
     "metadata": {},
     "output_type": "display_data"
    },
    {
     "data": {
      "text/plain": [
       "(197741, 28, 28)"
      ]
     },
     "metadata": {},
     "output_type": "display_data"
    },
    {
     "data": {
      "text/plain": [
       "(187386, 28, 28)"
      ]
     },
     "metadata": {},
     "output_type": "display_data"
    },
    {
     "data": {
      "text/plain": [
       "(187312, 28, 28)"
      ]
     },
     "metadata": {},
     "output_type": "display_data"
    },
    {
     "data": {
      "image/png": "[encoded data removed]",
      "text/plain": [
       "<matplotlib.figure.Figure at 0x7f2001794610>"
      ]
     },
     "metadata": {},
     "output_type": "display_data"
    }
   ],
   "source": [
    "usefulify(train_dataset)\n",
    "tu_min = usefulify(train_dataset_unq)\n",
    "show_some_images(tu_min[24000:24024])"
   ]
  },
  {
   "cell_type": "code",
   "execution_count": 618,
   "metadata": {
    "collapsed": true
   },
   "outputs": [],
   "source": [
    "# Here we will actually create min variance"
   ]
  },
  {
   "cell_type": "code",
   "execution_count": 625,
   "metadata": {
    "collapsed": false
   },
   "outputs": [
    {
     "data": {
      "text/plain": [
       "(187386, 28, 28)"
      ]
     },
     "metadata": {},
     "output_type": "display_data"
    },
    {
     "data": {
      "text/plain": [
       "(187312, 28, 28)"
      ]
     },
     "metadata": {},
     "output_type": "display_data"
    },
    {
     "data": {
      "text/plain": [
       "(8898, 28, 28)"
      ]
     },
     "metadata": {},
     "output_type": "display_data"
    },
    {
     "data": {
      "text/plain": [
       "(8895, 28, 28)"
      ]
     },
     "metadata": {},
     "output_type": "display_data"
    },
    {
     "data": {
      "text/plain": [
       "(8648, 28, 28)"
      ]
     },
     "metadata": {},
     "output_type": "display_data"
    },
    {
     "data": {
      "text/plain": [
       "(8646, 28, 28)"
      ]
     },
     "metadata": {},
     "output_type": "display_data"
    }
   ],
   "source": [
    "# Eliminate low-variance images in train, valid, and test datasets\n",
    "# t_var_min = 0.000242272\n",
    "\n",
    "train_dataset_min, vidx_train = usefulify(train_dataset_unq, return_index=True)\n",
    "train_labels_min = train_labels_unq[vidx_train]\n",
    "valid_dataset_min, vidx_valid = usefulify(valid_dataset_unq, return_index=True)\n",
    "valid_labels_min = valid_labels_unq[vidx_valid]\n",
    "test_dataset_min, vidx_test = usefulify(test_dataset_unq, return_index=True)\n",
    "test_labels_min = test_labels_unq[vidx_test]\n"
   ]
  },
  {
   "cell_type": "code",
   "execution_count": 628,
   "metadata": {
    "collapsed": false
   },
   "outputs": [
    {
     "data": {
      "text/plain": [
       "'original sizes'"
      ]
     },
     "metadata": {},
     "output_type": "display_data"
    },
    {
     "data": {
      "text/plain": [
       "(187386, 28, 28)"
      ]
     },
     "metadata": {},
     "output_type": "display_data"
    },
    {
     "data": {
      "text/plain": [
       "(8898, 28, 28)"
      ]
     },
     "metadata": {},
     "output_type": "display_data"
    },
    {
     "data": {
      "text/plain": [
       "(8648, 28, 28)"
      ]
     },
     "metadata": {},
     "output_type": "display_data"
    },
    {
     "data": {
      "text/plain": [
       "'new sizes'"
      ]
     },
     "metadata": {},
     "output_type": "display_data"
    },
    {
     "data": {
      "text/plain": [
       "(187312, 28, 28)"
      ]
     },
     "metadata": {},
     "output_type": "display_data"
    },
    {
     "data": {
      "text/plain": [
       "(8895, 28, 28)"
      ]
     },
     "metadata": {},
     "output_type": "display_data"
    },
    {
     "data": {
      "text/plain": [
       "(8646, 28, 28)"
      ]
     },
     "metadata": {},
     "output_type": "display_data"
    },
    {
     "data": {
      "text/plain": [
       "'Removed'"
      ]
     },
     "metadata": {},
     "output_type": "display_data"
    },
    {
     "data": {
      "text/plain": [
       "74"
      ]
     },
     "metadata": {},
     "output_type": "display_data"
    },
    {
     "data": {
      "text/plain": [
       "3"
      ]
     },
     "metadata": {},
     "output_type": "display_data"
    },
    {
     "data": {
      "text/plain": [
       "2"
      ]
     },
     "metadata": {},
     "output_type": "display_data"
    },
    {
     "data": {
      "text/plain": [
       "'Overall removed'"
      ]
     },
     "metadata": {},
     "output_type": "display_data"
    },
    {
     "data": {
      "text/plain": [
       "12688"
      ]
     },
     "metadata": {},
     "output_type": "display_data"
    },
    {
     "data": {
      "text/plain": [
       "1105"
      ]
     },
     "metadata": {},
     "output_type": "display_data"
    },
    {
     "data": {
      "text/plain": [
       "1354"
      ]
     },
     "metadata": {},
     "output_type": "display_data"
    }
   ],
   "source": [
    "display('original sizes')\n",
    "display(train_dataset_unq.shape)\n",
    "display(valid_dataset_unq.shape)\n",
    "display(test_dataset_unq.shape)\n",
    "\n",
    "display('new sizes')\n",
    "display(train_dataset_min.shape)\n",
    "display(valid_dataset_min.shape)\n",
    "display(test_dataset_min.shape)\n",
    "\n",
    "display('Removed')\n",
    "display(train_dataset_unq.shape[0] - train_dataset_min.shape[0])\n",
    "display(valid_dataset_unq.shape[0] - valid_dataset_min.shape[0])\n",
    "display(test_dataset_unq.shape[0] - test_dataset_min.shape[0])\n",
    "\n",
    "display('Overall removed')\n",
    "display(train_dataset.shape[0] - train_dataset_min.shape[0])\n",
    "display(valid_dataset.shape[0] - valid_dataset_min.shape[0])\n",
    "display(test_dataset.shape[0] - test_dataset_min.shape[0])"
   ]
  },
  {
   "cell_type": "code",
   "execution_count": 624,
   "metadata": {
    "collapsed": false
   },
   "outputs": [],
   "source": [
    "# Save off the data files"
   ]
  },
  {
   "cell_type": "code",
   "execution_count": 629,
   "metadata": {
    "collapsed": true
   },
   "outputs": [],
   "source": [
    "# Save the min-variance-ified Datasets (with everything)\n",
    "pickle_file = os.path.join(data_root, 'notMNIST_min.pickle')\n",
    "\n",
    "try:\n",
    "  f = open(pickle_file, 'wb')\n",
    "  save = {\n",
    "    'train_dataset': train_dataset,\n",
    "    'train_labels': train_labels,\n",
    "    'valid_dataset': valid_dataset,\n",
    "    'valid_labels': valid_labels,\n",
    "    'test_dataset': test_dataset,\n",
    "    'test_labels': test_labels,\n",
    "    'train_dataset_unq': train_dataset_unq,\n",
    "    'train_labels_unq': train_labels_unq,\n",
    "    'valid_dataset_unq': valid_dataset_unq,\n",
    "    'valid_labels_unq': valid_labels_unq,\n",
    "    'test_dataset_unq': test_dataset_unq,\n",
    "    'test_labels_unq': test_labels_unq,\n",
    "    'train_dataset_min': train_dataset_min,\n",
    "    'train_labels_min': train_labels_min,\n",
    "    'valid_dataset_min': valid_dataset_min,\n",
    "    'valid_labels_min': valid_labels_min,\n",
    "    'test_dataset_min': test_dataset_min,\n",
    "    'test_labels_min': test_labels_min,\n",
    "    }\n",
    "  pickle.dump(save, f, pickle.HIGHEST_PROTOCOL)\n",
    "  f.close()\n",
    "except Exception as e:\n",
    "  print('Unable to save data to', pickle_file, ':', e)\n",
    "  raise"
   ]
  },
  {
   "cell_type": "code",
   "execution_count": 630,
   "metadata": {
    "collapsed": false
   },
   "outputs": [
    {
     "name": "stdout",
     "output_type": "stream",
     "text": [
      "Compressed pickle size: 1977525987\n"
     ]
    }
   ],
   "source": [
    "statinfo = os.stat(pickle_file)\n",
    "print('Compressed pickle size:', statinfo.st_size)"
   ]
  },
  {
   "cell_type": "code",
   "execution_count": 631,
   "metadata": {
    "collapsed": true
   },
   "outputs": [],
   "source": [
    "# Save the min-variance-ified Datasets (only min-variance)\n",
    "pickle_file = os.path.join(data_root, 'notMNIST_min_only.pickle')\n",
    "\n",
    "try:\n",
    "  f = open(pickle_file, 'wb')\n",
    "  save = {\n",
    "    'train_dataset_min': train_dataset_min,\n",
    "    'train_labels_min': train_labels_min,\n",
    "    'valid_dataset_min': valid_dataset_min,\n",
    "    'valid_labels_min': valid_labels_min,\n",
    "    'test_dataset_min': test_dataset_min,\n",
    "    'test_labels_min': test_labels_min,\n",
    "    }\n",
    "  pickle.dump(save, f, pickle.HIGHEST_PROTOCOL)\n",
    "  f.close()\n",
    "except Exception as e:\n",
    "  print('Unable to save data to', pickle_file, ':', e)\n",
    "  raise"
   ]
  },
  {
   "cell_type": "code",
   "execution_count": 632,
   "metadata": {
    "collapsed": false
   },
   "outputs": [
    {
     "name": "stdout",
     "output_type": "stream",
     "text": [
      "Compressed pickle size: 643238885\n"
     ]
    }
   ],
   "source": [
    "statinfo = os.stat(pickle_file)\n",
    "print('Compressed pickle size:', statinfo.st_size)"
   ]
  },
  {
   "cell_type": "markdown",
   "metadata": {
    "colab_type": "text",
    "deletable": true,
    "editable": true,
    "id": "L8oww1s4JMQx"
   },
   "source": [
    "---\n",
    "Problem 6\n",
    "---------\n",
    "\n",
    "Let's get an idea of what an off-the-shelf classifier can give you on this data. It's always good to check that there is something to learn, and that it's a problem that is not so trivial that a canned solution solves it.\n",
    "\n",
    "Train a simple model on this data using 50, 100, 1000 and 5000 training samples. Hint: you can use the LogisticRegression model from sklearn.linear_model.\n",
    "\n",
    "Optional question: train an off-the-shelf model on all the data!\n",
    "\n",
    "---"
   ]
  },
  {
   "cell_type": "code",
   "execution_count": 657,
   "metadata": {
    "collapsed": false
   },
   "outputs": [],
   "source": [
    "def choose_random(size, one_set, one_labels):\n",
    "    idx_rand = np.random.choice(one_set.shape[0], size)\n",
    "    return one_set[idx_rand], one_labels[idx_rand]\n",
    "\n",
    "def choose_random_reshape(size, one_set, one_labels):\n",
    "    idx_rand = np.random.choice(one_set.shape[0], size)\n",
    "    reshape_size = one_set.shape[1] * one_set.shape[2]\n",
    "    selected_set = one_set[idx_rand]\n",
    "    return selected_set, one_labels[idx_rand], selected_set.reshape((size, reshape_size))\n",
    "\n",
    "def fix_shape(one_set):\n",
    "    reshape_size = one_set.shape[1] * one_set.shape[2]\n",
    "    return np.reshape(one_set, (one_set.shape[0], reshape_size))"
   ]
  },
  {
   "cell_type": "code",
   "execution_count": 658,
   "metadata": {
    "collapsed": false,
    "deletable": true,
    "editable": true
   },
   "outputs": [],
   "source": [
    "# train_50, tlabel_50 = choose_random(50, train_dataset_min, train_labels_min)\n",
    "# train_100, tlabel_100 = choose_random(100, train_dataset_min, train_labels_min)\n",
    "# train_1000, tlabel_1000 = choose_random(1000, train_dataset_min, train_labels_min)\n",
    "# train_5000, tlabel_5000 = choose_random(5000, train_dataset_min, train_labels_min)\n",
    "\n",
    "train_50,   tlabel_50,   X_train_50   = choose_random_reshape(50, train_dataset_min, train_labels_min)\n",
    "train_100,  tlabel_100,  X_train_100  = choose_random_reshape(100, train_dataset_min, train_labels_min)\n",
    "train_1000, tlabel_1000, X_train_1000 = choose_random_reshape(1000, train_dataset_min, train_labels_min)\n",
    "train_5000, tlabel_5000, X_train_5000 = choose_random_reshape(5000, train_dataset_min, train_labels_min)"
   ]
  },
  {
   "cell_type": "code",
   "execution_count": 659,
   "metadata": {
    "collapsed": false
   },
   "outputs": [
    {
     "data": {
      "text/plain": [
       "array([4, 6, 4, 2, 5, 9, 6, 5, 8, 7, 3, 6, 2, 6, 3, 4, 9, 0, 8, 2, 3, 5, 7,\n",
       "       1, 2, 4, 8, 2, 3, 5, 1, 0, 2, 6, 1, 2, 0, 7, 7, 3, 8, 7, 9, 0, 8, 9,\n",
       "       4, 6, 4, 4], dtype=int32)"
      ]
     },
     "metadata": {},
     "output_type": "display_data"
    },
    {
     "data": {
      "image/png": "[encoded data removed]",
      "text/plain": [
       "<matplotlib.figure.Figure at 0x7f204eb66310>"
      ]
     },
     "metadata": {},
     "output_type": "display_data"
    }
   ],
   "source": [
    "display(tlabel_50)\n",
    "show_some_images(train_50)"
   ]
  },
  {
   "cell_type": "code",
   "execution_count": null,
   "metadata": {
    "collapsed": true
   },
   "outputs": [],
   "source": []
  },
  {
   "cell_type": "code",
   "execution_count": 641,
   "metadata": {
    "collapsed": true
   },
   "outputs": [],
   "source": [
    "# now some logi!\n",
    "#\n",
    "#\n",
    "# WX + b = y\n",
    "#   X are inputs\n",
    "#   y are logit (scores)\n",
    "#   W are weights\n",
    "#   b are biases\n",
    "# WX + b = y\n",
    "# S(y) = S\n",
    "#   S are probabilities (from Softmax()-ing scores)\n",
    "# D(S, L)\n",
    "#   L is labels (one-hot truth)\n",
    "#   D() is distance to correct class -- Cross-Entropy measure\n",
    "#\n",
    "#\n",
    "#  Goal is to minimize distance to correct class, by figuring out best weights and biases\n",
    "#\n",
    "#    D( S(wx + b), L )\n",
    "#"
   ]
  },
  {
   "cell_type": "code",
   "execution_count": 653,
   "metadata": {
    "collapsed": true
   },
   "outputs": [],
   "source": [
    "X_test = fix_shape(test_dataset_min)\n",
    "y_test = test_labels_min"
   ]
  },
  {
   "cell_type": "code",
   "execution_count": 655,
   "metadata": {
    "collapsed": false
   },
   "outputs": [
    {
     "data": {
      "text/plain": [
       "(50, 784)"
      ]
     },
     "metadata": {},
     "output_type": "display_data"
    },
    {
     "data": {
      "text/plain": [
       "(50,)"
      ]
     },
     "metadata": {},
     "output_type": "display_data"
    },
    {
     "data": {
      "text/plain": [
       "LogisticRegression(C=1.0, class_weight=None, dual=False, fit_intercept=True,\n",
       "          intercept_scaling=1, max_iter=100, multi_class='ovr', n_jobs=1,\n",
       "          penalty='l2', random_state=None, solver='liblinear', tol=0.0001,\n",
       "          verbose=0, warm_start=False)"
      ]
     },
     "execution_count": 655,
     "metadata": {},
     "output_type": "execute_result"
    }
   ],
   "source": [
    "# train_50, tlabel_50\n",
    "\n",
    "\n",
    "# lr_50 = LogisticRegression(multi_class='multinomial', solver='saga')\n",
    "lr_50 = LogisticRegression()\n",
    "X_train = fix_shape(train_50)\n",
    "y_train = tlabel_50\n",
    "display(X_train.shape)\n",
    "display(y_train.shape)\n",
    "\n",
    "lr_50.fit(X_train, y_train)"
   ]
  },
  {
   "cell_type": "code",
   "execution_count": 654,
   "metadata": {
    "collapsed": false
   },
   "outputs": [
    {
     "data": {
      "text/plain": [
       "0.6290770298403886"
      ]
     },
     "metadata": {},
     "output_type": "display_data"
    }
   ],
   "source": [
    "score = lr_50.score(X_test, y_test)\n",
    "display(score)"
   ]
  },
  {
   "cell_type": "code",
   "execution_count": 660,
   "metadata": {
    "collapsed": false
   },
   "outputs": [
    {
     "data": {
      "text/plain": [
       "0.74022669442516775"
      ]
     },
     "metadata": {},
     "output_type": "display_data"
    }
   ],
   "source": [
    "lr_100 = LogisticRegression()\n",
    "lr_100.fit(X_train_100, tlabel_100)\n",
    "display(lr_100.score(X_test, y_test))"
   ]
  },
  {
   "cell_type": "code",
   "execution_count": 661,
   "metadata": {
    "collapsed": false
   },
   "outputs": [
    {
     "data": {
      "text/plain": [
       "0.82222993291695579"
      ]
     },
     "metadata": {},
     "output_type": "display_data"
    }
   ],
   "source": [
    "lr_1000 = LogisticRegression()\n",
    "lr_1000.fit(X_train_1000, tlabel_1000)\n",
    "display(lr_1000.score(X_test, y_test))"
   ]
  },
  {
   "cell_type": "code",
   "execution_count": 662,
   "metadata": {
    "collapsed": false
   },
   "outputs": [
    {
     "data": {
      "text/plain": [
       "0.83206106870229013"
      ]
     },
     "metadata": {},
     "output_type": "display_data"
    }
   ],
   "source": [
    "lr_5000 = LogisticRegression()\n",
    "lr_5000.fit(X_train_5000, tlabel_5000)\n",
    "display(lr_5000.score(X_test, y_test))"
   ]
  },
  {
   "cell_type": "markdown",
   "metadata": {},
   "source": [
    "---\n",
    "Let's try all of it now?\n",
    "----"
   ]
  },
  {
   "cell_type": "code",
   "execution_count": 663,
   "metadata": {
    "collapsed": false
   },
   "outputs": [
    {
     "data": {
      "text/plain": [
       "LogisticRegression(C=1.0, class_weight=None, dual=False, fit_intercept=True,\n",
       "          intercept_scaling=1, max_iter=100, multi_class='ovr', n_jobs=1,\n",
       "          penalty='l2', random_state=None, solver='liblinear', tol=0.0001,\n",
       "          verbose=0, warm_start=False)"
      ]
     },
     "execution_count": 663,
     "metadata": {},
     "output_type": "execute_result"
    }
   ],
   "source": [
    "# first with cleaned up dataset\n",
    "X_train_all = fix_shape(train_dataset_min)\n",
    "y_label_all = train_labels_min\n",
    "\n",
    "lr_all = LogisticRegression()\n",
    "lr_all.fit(X_train_all, y_label_all)"
   ]
  },
  {
   "cell_type": "code",
   "execution_count": 664,
   "metadata": {
    "collapsed": false
   },
   "outputs": [
    {
     "data": {
      "text/plain": [
       "0.87959750173490636"
      ]
     },
     "execution_count": 664,
     "metadata": {},
     "output_type": "execute_result"
    }
   ],
   "source": [
    "lr_all.score(X_test, y_test)"
   ]
  },
  {
   "cell_type": "markdown",
   "metadata": {},
   "source": [
    "Score on full min-var-set: 0.87959750173490636"
   ]
  },
  {
   "cell_type": "code",
   "execution_count": 667,
   "metadata": {
    "collapsed": false
   },
   "outputs": [
    {
     "data": {
      "text/plain": [
       "array([[-0.76640677, -0.46638483, -0.2450123 , ...,  0.06551645,\n",
       "         0.72785319,  1.21190156],\n",
       "       [ 0.0229692 , -0.00173037,  0.35818372, ..., -0.86132832,\n",
       "        -0.40260905,  0.08025999],\n",
       "       [ 0.43663727,  0.13905085, -1.11987284, ..., -0.1171647 ,\n",
       "         0.21657817,  0.11025176],\n",
       "       ..., \n",
       "       [-0.35516045,  0.62614299,  0.22521229, ...,  0.62786031,\n",
       "         0.24110788,  0.05323455],\n",
       "       [ 0.03822893, -0.18666697,  0.39338547, ...,  0.81648914,\n",
       "        -0.4106436 , -0.73413537],\n",
       "       [ 0.06021567, -0.49174484, -0.1609717 , ..., -0.73904698,\n",
       "        -0.34311562, -0.25245292]])"
      ]
     },
     "execution_count": 667,
     "metadata": {},
     "output_type": "execute_result"
    }
   ],
   "source": [
    "lr_all.coef_"
   ]
  },
  {
   "cell_type": "markdown",
   "metadata": {},
   "source": [
    "---\n",
    "(bonus) - with the full set\n",
    "---"
   ]
  },
  {
   "cell_type": "code",
   "execution_count": 668,
   "metadata": {
    "collapsed": false
   },
   "outputs": [
    {
     "name": "stdout",
     "output_type": "stream",
     "text": [
      "CPU times: user 0 ns, sys: 0 ns, total: 0 ns\n",
      "Wall time: 4.05 µs\n"
     ]
    },
    {
     "data": {
      "text/plain": [
       "0.87959750173490636"
      ]
     },
     "execution_count": 668,
     "metadata": {},
     "output_type": "execute_result"
    }
   ],
   "source": [
    "%time\n",
    "lr_all.score(X_test, y_test)"
   ]
  },
  {
   "cell_type": "code",
   "execution_count": 669,
   "metadata": {
    "collapsed": false
   },
   "outputs": [
    {
     "name": "stdout",
     "output_type": "stream",
     "text": [
      "CPU times: user 0 ns, sys: 0 ns, total: 0 ns\n",
      "Wall time: 4.05 µs\n"
     ]
    },
    {
     "data": {
      "text/plain": [
       "LogisticRegression(C=1.0, class_weight=None, dual=False, fit_intercept=True,\n",
       "          intercept_scaling=1, max_iter=100, multi_class='ovr', n_jobs=1,\n",
       "          penalty='l2', random_state=None, solver='liblinear', tol=0.0001,\n",
       "          verbose=0, warm_start=False)"
      ]
     },
     "execution_count": 669,
     "metadata": {},
     "output_type": "execute_result"
    }
   ],
   "source": [
    "%time\n",
    "# full set training (minus uniques):\n",
    "X_train_u = fix_shape(train_dataset_unq)\n",
    "y_label_u = train_labels_unq\n",
    "\n",
    "lr_u = LogisticRegression()\n",
    "lr_u.fit(X_train_u, y_label_u)"
   ]
  },
  {
   "cell_type": "code",
   "execution_count": 670,
   "metadata": {
    "collapsed": false
   },
   "outputs": [
    {
     "data": {
      "text/plain": [
       "0.87939407955596671"
      ]
     },
     "metadata": {},
     "output_type": "display_data"
    },
    {
     "data": {
      "text/plain": [
       "0.87936618089289842"
      ]
     },
     "metadata": {},
     "output_type": "display_data"
    }
   ],
   "source": [
    "# using also unique-only test set\n",
    "X_test_unq = fix_shape(test_dataset_unq)\n",
    "y_test_unq = test_labels_unq\n",
    "\n",
    "display(lr_u.score(X_test_unq, y_test_unq))\n",
    "display(lr_u.score(X_test, y_test))"
   ]
  }
 ],
 "metadata": {
  "colab": {
   "default_view": {},
   "name": "1_notmnist.ipynb",
   "provenance": [],
   "version": "0.3.2",
   "views": {}
  },
  "kernelspec": {
   "display_name": "Python 2",
   "language": "python",
   "name": "python2"
  },
  "language_info": {
   "codemirror_mode": {
    "name": "ipython",
    "version": 2
   },
   "file_extension": ".py",
   "mimetype": "text/x-python",
   "name": "python",
   "nbconvert_exporter": "python",
   "pygments_lexer": "ipython2",
   "version": "2.7.6"
  }
 },
 "nbformat": 4,
 "nbformat_minor": 0
}
